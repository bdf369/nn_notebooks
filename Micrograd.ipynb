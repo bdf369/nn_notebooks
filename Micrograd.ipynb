{
 "cells": [
  {
   "cell_type": "markdown",
   "id": "3d4de030-8ea3-47fd-a951-f0b57aa6524b",
   "metadata": {},
   "source": [
    "# Micrograd\n",
    "\n",
    "This notebook contains notes and code from Andrej Karpathy's Micrograd lesson\n",
    "\n",
    "Micrograd repo is here: https://github.com/karpathy/micrograd\n",
    "\n",
    "The notes below review the theory. Micrograd illustrates the workings of creating a Multi Layer Perceptron and training it using backpropagation. Micrograd uses scalar values unlike a package like Pytorch which is based on Tensors."
   ]
  },
  {
   "cell_type": "markdown",
   "id": "da02306b-01b7-4e5f-9f7a-6bfcb63815df",
   "metadata": {},
   "source": [
    "# Derivatives and The Chain Rule\n",
    "\n",
    "We want to find the derivative $dy/dx$ of the function $y = f(g(x))$. If we write $u = g(x)$, then $dy/dx = df/du * du/dx$\n",
    "\n",
    "Another way to say this is $y' = f'(g(x)) * g'(x)$"
   ]
  },
  {
   "cell_type": "markdown",
   "id": "5dcd0f63-56e4-4d75-8b40-f84e6ec9b0e2",
   "metadata": {},
   "source": [
    "## Why would we care about chain rule?\n",
    "\n",
    "We do because we can take the output of an expression, say $g$, and if we represent the expression as a tree with intermediate values as parents, then we can use the chain rule and backpropagation to walk up the tree to the inputs and determine the deriviative of the output $g$ from inputs $a$ and $b$. This can be used as the mechanism for training Neural Networks (NNs).\n",
    "\n",
    "In practice we train using Tensors instead of scalar values, but the principles and maths are the same. In other words we can study a simple scalar engine that works with arou 150 lines of code. Everything else beyond that is scale (ie complex tensors) and optimization (eg parallel processing using vectorized processing)."
   ]
  },
  {
   "cell_type": "code",
   "execution_count": 146,
   "id": "88452f37-4d99-4385-84c3-fc7b428ff094",
   "metadata": {},
   "outputs": [],
   "source": [
    "import math\n",
    "import random\n",
    "import numpy as np\n",
    "import matplotlib.pyplot as plt\n",
    "%matplotlib inline"
   ]
  },
  {
   "cell_type": "markdown",
   "id": "747f8023-538e-4e94-9340-097290e0a543",
   "metadata": {},
   "source": [
    "## Example Function\n",
    "\n",
    "Below is a function that we'll use to discuss the derivative"
   ]
  },
  {
   "cell_type": "code",
   "execution_count": 4,
   "id": "5fcf104e-a974-4c23-bef2-9536a1da469f",
   "metadata": {},
   "outputs": [],
   "source": [
    "def f(x):\n",
    "    return 3*x**2 - 4*x + 5"
   ]
  },
  {
   "cell_type": "markdown",
   "id": "70e37d73-14bb-485c-b59e-ed7f0f45aa77",
   "metadata": {},
   "source": [
    "We can calculate the value of $f()$ at some arbitrary point, and also plot it over a range to visualize how it varies."
   ]
  },
  {
   "cell_type": "code",
   "execution_count": 5,
   "id": "3fcb58bd-6c66-4697-ab6e-cdbfd01ae07e",
   "metadata": {},
   "outputs": [
    {
     "data": {
      "text/plain": [
       "20.0"
      ]
     },
     "execution_count": 5,
     "metadata": {},
     "output_type": "execute_result"
    }
   ],
   "source": [
    "f(3.0)"
   ]
  },
  {
   "cell_type": "code",
   "execution_count": 9,
   "id": "46a6b12a-ab33-4a71-8c37-17b532ad30d4",
   "metadata": {},
   "outputs": [
    {
     "data": {
      "text/plain": [
       "[<matplotlib.lines.Line2D at 0x114e6d710>]"
      ]
     },
     "execution_count": 9,
     "metadata": {},
     "output_type": "execute_result"
    },
    {
     "data": {
      "image/png": "[encoded data removed]",
      "text/plain": [
       "<Figure size 640x480 with 1 Axes>"
      ]
     },
     "metadata": {},
     "output_type": "display_data"
    }
   ],
   "source": [
    "xs = np.arange(-5, 5, 0.25)\n",
    "ys = f(xs)\n",
    "plt.plot(xs, ys)"
   ]
  },
  {
   "cell_type": "markdown",
   "id": "a0f7cd19-3019-4eeb-a875-c7b3550101b4",
   "metadata": {},
   "source": [
    "## Derivative of $f(x)$\n",
    "\n",
    "Let's calculate the derivative at some point x numerically using the formula $f'(x) = (f(x + h) - f(x))/h$ for some small value of $h$."
   ]
  },
  {
   "cell_type": "code",
   "execution_count": 13,
   "id": "7ae81993-6223-4380-b395-3ae4d806a238",
   "metadata": {},
   "outputs": [
    {
     "data": {
      "text/plain": [
       "14.00000009255109"
      ]
     },
     "execution_count": 13,
     "metadata": {},
     "output_type": "execute_result"
    }
   ],
   "source": [
    "h = 0.00000001\n",
    "x = 3.0\n",
    "(f(x + h) - f(x))/h"
   ]
  },
  {
   "cell_type": "markdown",
   "id": "bcd61138-5387-4384-bd22-e896672e4add",
   "metadata": {},
   "source": [
    "We see the above is about 14.0, and gets closer to 14.0 exactly the smaller we make $h$ up to some limits of what floating point arithmetic on a computer can do. This jibes with taking the deriviative symbolically as $f'(x) = 6x - 4$ and $f'(3) = 14$ exactly."
   ]
  },
  {
   "cell_type": "markdown",
   "id": "b081ec5b-b7e0-4f84-ba43-13fae6fd4b84",
   "metadata": {},
   "source": [
    "## Derivative wrt multiple inputs\n",
    "\n",
    "Below we have an output d that is the result of 3 inputs, a, b and c. We will want to know the derivatives $d'(a)$, $d'(b)$ and $d'(c)$"
   ]
  },
  {
   "cell_type": "code",
   "execution_count": 14,
   "id": "75cea802-45a6-4420-ab64-53879780d088",
   "metadata": {},
   "outputs": [
    {
     "name": "stdout",
     "output_type": "stream",
     "text": [
      "4.0\n"
     ]
    }
   ],
   "source": [
    "a = 2.0\n",
    "b = -3.0\n",
    "c = 10.0\n",
    "\n",
    "d = a*b + c\n",
    "print(d)"
   ]
  },
  {
   "cell_type": "markdown",
   "id": "7f1b4563-c2c9-4ad3-b1dc-7549e3e57fe6",
   "metadata": {},
   "source": [
    "To estimate $d'(a)$, use the same derivative forumula where we add a small amount to $a$"
   ]
  },
  {
   "cell_type": "code",
   "execution_count": 16,
   "id": "0305b62c-e978-46e3-bf8f-c1c3ec130517",
   "metadata": {},
   "outputs": [
    {
     "name": "stdout",
     "output_type": "stream",
     "text": [
      "-3.000000000010772\n"
     ]
    }
   ],
   "source": [
    "h = 0.0001\n",
    "\n",
    "a = 2.0\n",
    "b = -3.0\n",
    "c = 10.0\n",
    "\n",
    "d1 = a*b + c\n",
    "d2 = (a+h)*b + c\n",
    "\n",
    "da = (d2 - d1)/h\n",
    "print(da)"
   ]
  },
  {
   "cell_type": "markdown",
   "id": "b0381bf4-cd89-40fd-83cf-637f76ebc010",
   "metadata": {},
   "source": [
    "The result (-3.0) makes sense because $d'(a) = b$ which is -3.0"
   ]
  },
  {
   "cell_type": "markdown",
   "id": "0ae9a3af-6707-4da6-a922-4016166498b6",
   "metadata": {},
   "source": [
    "# Building a Neural Network\n",
    "\n",
    "The Value class below is used to hold a value in an expression, and also to track the inputs (`Value._prev`) and operation (`Value._op`) that produced the value. Add and multiply operator support is included using the special methods `__add__()` and `__mul__()`."
   ]
  },
  {
   "cell_type": "code",
   "execution_count": 138,
   "id": "13fe12ab-8d4f-43e9-a803-42facf5920e8",
   "metadata": {},
   "outputs": [],
   "source": [
    "class Value:\n",
    "  \n",
    "  def __init__(self, data, _children=(), _op='', label=''):\n",
    "    self.data = data\n",
    "    self.grad = 0.0\n",
    "    self._backward = lambda: None\n",
    "    self._prev = set(_children)\n",
    "    self._op = _op\n",
    "    self.label = label\n",
    "\n",
    "  def __repr__(self):\n",
    "    return f\"Value(data={self.data})\"\n",
    "  \n",
    "  def __add__(self, other):\n",
    "    other = other if isinstance(other, Value) else Value(other)\n",
    "    out = Value(self.data + other.data, (self, other), '+')\n",
    "    \n",
    "    def _backward():\n",
    "      self.grad += 1.0 * out.grad\n",
    "      other.grad += 1.0 * out.grad\n",
    "    out._backward = _backward\n",
    "    \n",
    "    return out\n",
    "\n",
    "  def __mul__(self, other):\n",
    "    other = other if isinstance(other, Value) else Value(other)\n",
    "    out = Value(self.data * other.data, (self, other), '*')\n",
    "    \n",
    "    def _backward():\n",
    "      self.grad += other.data * out.grad\n",
    "      other.grad += self.data * out.grad\n",
    "    out._backward = _backward\n",
    "      \n",
    "    return out\n",
    "  \n",
    "  def __pow__(self, other):\n",
    "    assert isinstance(other, (int, float)), \"only supporting int/float powers for now\"\n",
    "    out = Value(self.data**other, (self,), f'**{other}')\n",
    "\n",
    "    def _backward():\n",
    "        self.grad += other * (self.data ** (other - 1)) * out.grad\n",
    "    out._backward = _backward\n",
    "\n",
    "    return out\n",
    "  \n",
    "  def __rmul__(self, other): # other * self\n",
    "    return self * other\n",
    "\n",
    "  def __truediv__(self, other): # self / other\n",
    "    return self * other**-1\n",
    "\n",
    "  def __neg__(self): # -self\n",
    "    return self * -1\n",
    "\n",
    "  def __sub__(self, other): # self - other\n",
    "    return self + (-other)\n",
    "\n",
    "  def __radd__(self, other): # other + self\n",
    "    return self + other\n",
    "\n",
    "  def tanh(self):\n",
    "    x = self.data\n",
    "    t = (math.exp(2*x) - 1)/(math.exp(2*x) + 1)\n",
    "    out = Value(t, (self, ), 'tanh')\n",
    "    \n",
    "    def _backward():\n",
    "      self.grad += (1 - t**2) * out.grad\n",
    "    out._backward = _backward\n",
    "    \n",
    "    return out\n",
    "  \n",
    "  def exp(self):\n",
    "    x = self.data\n",
    "    out = Value(math.exp(x), (self, ), 'exp')\n",
    "    \n",
    "    def _backward():\n",
    "      self.grad += out.data * out.grad # NOTE: in the video I incorrectly used = instead of +=. Fixed here.\n",
    "    out._backward = _backward\n",
    "    \n",
    "    return out\n",
    "  \n",
    "  \n",
    "  def backward(self):\n",
    "    \n",
    "    topo = []\n",
    "    visited = set()\n",
    "    def build_topo(v):\n",
    "      if v not in visited:\n",
    "        visited.add(v)\n",
    "        for child in v._prev:\n",
    "          build_topo(child)\n",
    "        topo.append(v)\n",
    "    build_topo(self)\n",
    "    \n",
    "    self.grad = 1.0\n",
    "    for node in reversed(topo):\n",
    "      node._backward()"
   ]
  },
  {
   "cell_type": "markdown",
   "id": "c07b63da-2b96-4afa-a0b0-7c34e1119561",
   "metadata": {},
   "source": [
    "Below we can construct an expression using Value objects"
   ]
  },
  {
   "cell_type": "code",
   "execution_count": 95,
   "id": "c087035a-863b-4621-af6a-660ce0ce3bf6",
   "metadata": {},
   "outputs": [
    {
     "data": {
      "text/plain": [
       "Value(data=-8.0)"
      ]
     },
     "execution_count": 95,
     "metadata": {},
     "output_type": "execute_result"
    }
   ],
   "source": [
    "a = Value(2.0, label='a')\n",
    "b = Value(-3.0, label='b')\n",
    "c = Value(10.0, label='c')\n",
    "d = a*b + c\n",
    "d.label = 'd'\n",
    "f = Value(-2.0, label='f')\n",
    "L = f * d\n",
    "L.label = 'L'\n",
    "L"
   ]
  },
  {
   "cell_type": "code",
   "execution_count": 37,
   "id": "dd07c48c-7281-45b7-9ce6-2bc177273709",
   "metadata": {
    "scrolled": true
   },
   "outputs": [
    {
     "data": {
      "text/plain": [
       "{Value(data=-6.0), Value(data=10.0)}"
      ]
     },
     "execution_count": 37,
     "metadata": {},
     "output_type": "execute_result"
    }
   ],
   "source": [
    "d._prev"
   ]
  },
  {
   "cell_type": "code",
   "execution_count": 38,
   "id": "89b4111c-2dcc-4f26-a941-d8c669c247ee",
   "metadata": {},
   "outputs": [
    {
     "data": {
      "text/plain": [
       "'+'"
      ]
     },
     "execution_count": 38,
     "metadata": {},
     "output_type": "execute_result"
    }
   ],
   "source": [
    "d._op"
   ]
  },
  {
   "cell_type": "code",
   "execution_count": 39,
   "id": "6ea3b0c1-e043-4bd4-8d98-83da400a5abd",
   "metadata": {},
   "outputs": [
    {
     "data": {
      "text/plain": [
       "'d'"
      ]
     },
     "execution_count": 39,
     "metadata": {},
     "output_type": "execute_result"
    }
   ],
   "source": [
    "d.label"
   ]
  },
  {
   "cell_type": "markdown",
   "id": "bc7db357-6eca-44c5-8ffa-ad4a6735d525",
   "metadata": {},
   "source": [
    "## Visualizing an Expression based on the Value class\n",
    "\n",
    "We can visualize the expression $d = a * b + c$ with the following:"
   ]
  },
  {
   "cell_type": "code",
   "execution_count": 47,
   "id": "3d6919f5-c6b1-4810-9f7d-06c9f63402f3",
   "metadata": {},
   "outputs": [],
   "source": [
    "from graphviz import Digraph\n",
    "\n",
    "def trace(root):\n",
    "  # builds a set of all nodes and edges in a graph\n",
    "  nodes, edges = set(), set()\n",
    "  def build(v):\n",
    "    if v not in nodes:\n",
    "      nodes.add(v)\n",
    "      for child in v._prev:\n",
    "        edges.add((child, v))\n",
    "        build(child)\n",
    "  build(root)\n",
    "  return nodes, edges\n",
    "\n",
    "def draw_dot(root):\n",
    "  dot = Digraph(format='svg', graph_attr={'rankdir': 'LR'}) # LR = left to right\n",
    "  \n",
    "  nodes, edges = trace(root)\n",
    "  for n in nodes:\n",
    "    uid = str(id(n))\n",
    "    # for any value in the graph, create a rectangular ('record') node for it\n",
    "    dot.node(name = uid, label = \"{ %s | data %.4f | grad %.4f }\" % (n.label, n.data, n.grad), shape='record')\n",
    "    if n._op:\n",
    "      # if this value is a result of some operation, create an op node for it\n",
    "      dot.node(name = uid + n._op, label = n._op)\n",
    "      # and connect this node to it\n",
    "      dot.edge(uid + n._op, uid)\n",
    "\n",
    "  for n1, n2 in edges:\n",
    "    # connect n1 to the op node of n2\n",
    "    dot.edge(str(id(n1)), str(id(n2)) + n2._op)\n",
    "\n",
    "  return dot"
   ]
  },
  {
   "cell_type": "code",
   "execution_count": 63,
   "id": "206c8e0b-5e21-4a05-a7dd-e5d598fb1f45",
   "metadata": {},
   "outputs": [
    {
     "data": {
      "image/svg+xml": [
       "<?xml version=\"1.0\" encoding=\"UTF-8\" standalone=\"no\"?>\n",
       "<!DOCTYPE svg PUBLIC \"-//W3C//DTD SVG 1.1//EN\"\n",
       " \"http://www.w3.org/Graphics/SVG/1.1/DTD/svg11.dtd\">\n",
       "<!-- Generated by graphviz version 13.1.1 (20250719.2154)\n",
       " -->\n",
       "<!-- Pages: 1 -->\n",
       "<svg width=\"1151pt\" height=\"154pt\"\n",
       " viewBox=\"0.00 0.00 1151.00 154.00\" xmlns=\"http://www.w3.org/2000/svg\" xmlns:xlink=\"http://www.w3.org/1999/xlink\">\n",
       "<g id=\"graph0\" class=\"graph\" transform=\"scale(1 1) rotate(0) translate(4 150)\">\n",
       "<polygon fill=\"white\" stroke=\"none\" points=\"-4,4 -4,-150 1147,-150 1147,4 -4,4\"/>\n",
       "<!-- 4645832208 -->\n",
       "<g id=\"node1\" class=\"node\">\n",
       "<title>4645832208</title>\n",
       "<polygon fill=\"none\" stroke=\"black\" points=\"953.25,-81.5 953.25,-117.5 1143,-117.5 1143,-81.5 953.25,-81.5\"/>\n",
       "<text xml:space=\"preserve\" text-anchor=\"middle\" x=\"965.38\" y=\"-94.7\" font-family=\"Times,serif\" font-size=\"14.00\">L</text>\n",
       "<polyline fill=\"none\" stroke=\"black\" points=\"977.5,-82 977.5,-117.5\"/>\n",
       "<text xml:space=\"preserve\" text-anchor=\"middle\" x=\"1019.62\" y=\"-94.7\" font-family=\"Times,serif\" font-size=\"14.00\">data &#45;8.0000</text>\n",
       "<polyline fill=\"none\" stroke=\"black\" points=\"1061.75,-82 1061.75,-117.5\"/>\n",
       "<text xml:space=\"preserve\" text-anchor=\"middle\" x=\"1102.38\" y=\"-94.7\" font-family=\"Times,serif\" font-size=\"14.00\">grad 0.0000</text>\n",
       "</g>\n",
       "<!-- 4645832208* -->\n",
       "<g id=\"node2\" class=\"node\">\n",
       "<title>4645832208*</title>\n",
       "<ellipse fill=\"none\" stroke=\"black\" cx=\"890.25\" cy=\"-99.5\" rx=\"27\" ry=\"18\"/>\n",
       "<text xml:space=\"preserve\" text-anchor=\"middle\" x=\"890.25\" y=\"-94.45\" font-family=\"Times,serif\" font-size=\"14.00\">*</text>\n",
       "</g>\n",
       "<!-- 4645832208*&#45;&gt;4645832208 -->\n",
       "<g id=\"edge1\" class=\"edge\">\n",
       "<title>4645832208*&#45;&gt;4645832208</title>\n",
       "<path fill=\"none\" stroke=\"black\" d=\"M917.69,-99.5C924.84,-99.5 933.03,-99.5 941.74,-99.5\"/>\n",
       "<polygon fill=\"black\" stroke=\"black\" points=\"941.51,-103 951.51,-99.5 941.51,-96 941.51,-103\"/>\n",
       "</g>\n",
       "<!-- 4391571984 -->\n",
       "<g id=\"node3\" class=\"node\">\n",
       "<title>4391571984</title>\n",
       "<polygon fill=\"none\" stroke=\"black\" points=\"319.88,-82.5 319.88,-118.5 509.62,-118.5 509.62,-82.5 319.88,-82.5\"/>\n",
       "<text xml:space=\"preserve\" text-anchor=\"middle\" x=\"330.88\" y=\"-95.7\" font-family=\"Times,serif\" font-size=\"14.00\">c</text>\n",
       "<polyline fill=\"none\" stroke=\"black\" points=\"341.88,-83 341.88,-118.5\"/>\n",
       "<text xml:space=\"preserve\" text-anchor=\"middle\" x=\"385.12\" y=\"-95.7\" font-family=\"Times,serif\" font-size=\"14.00\">data 10.0000</text>\n",
       "<polyline fill=\"none\" stroke=\"black\" points=\"428.38,-83 428.38,-118.5\"/>\n",
       "<text xml:space=\"preserve\" text-anchor=\"middle\" x=\"469\" y=\"-95.7\" font-family=\"Times,serif\" font-size=\"14.00\">grad 0.0000</text>\n",
       "</g>\n",
       "<!-- 4645845392+ -->\n",
       "<g id=\"node10\" class=\"node\">\n",
       "<title>4645845392+</title>\n",
       "<ellipse fill=\"none\" stroke=\"black\" cx=\"578.25\" cy=\"-72.5\" rx=\"27\" ry=\"18\"/>\n",
       "<text xml:space=\"preserve\" text-anchor=\"middle\" x=\"578.25\" y=\"-67.45\" font-family=\"Times,serif\" font-size=\"14.00\">+</text>\n",
       "</g>\n",
       "<!-- 4391571984&#45;&gt;4645845392+ -->\n",
       "<g id=\"edge7\" class=\"edge\">\n",
       "<title>4391571984&#45;&gt;4645845392+</title>\n",
       "<path fill=\"none\" stroke=\"black\" d=\"M509.7,-84.21C520.53,-82.33 531.03,-80.51 540.41,-78.89\"/>\n",
       "<polygon fill=\"black\" stroke=\"black\" points=\"540.86,-82.36 550.12,-77.2 539.67,-75.46 540.86,-82.36\"/>\n",
       "</g>\n",
       "<!-- 4645837968 -->\n",
       "<g id=\"node4\" class=\"node\">\n",
       "<title>4645837968</title>\n",
       "<polygon fill=\"none\" stroke=\"black\" points=\"2.62,-55.5 2.62,-91.5 185.62,-91.5 185.62,-55.5 2.62,-55.5\"/>\n",
       "<text xml:space=\"preserve\" text-anchor=\"middle\" x=\"13.62\" y=\"-68.7\" font-family=\"Times,serif\" font-size=\"14.00\">a</text>\n",
       "<polyline fill=\"none\" stroke=\"black\" points=\"24.62,-56 24.62,-91.5\"/>\n",
       "<text xml:space=\"preserve\" text-anchor=\"middle\" x=\"64.5\" y=\"-68.7\" font-family=\"Times,serif\" font-size=\"14.00\">data 2.0000</text>\n",
       "<polyline fill=\"none\" stroke=\"black\" points=\"104.38,-56 104.38,-91.5\"/>\n",
       "<text xml:space=\"preserve\" text-anchor=\"middle\" x=\"145\" y=\"-68.7\" font-family=\"Times,serif\" font-size=\"14.00\">grad 0.0000</text>\n",
       "</g>\n",
       "<!-- 4642070672* -->\n",
       "<g id=\"node6\" class=\"node\">\n",
       "<title>4642070672*</title>\n",
       "<ellipse fill=\"none\" stroke=\"black\" cx=\"251.25\" cy=\"-45.5\" rx=\"27\" ry=\"18\"/>\n",
       "<text xml:space=\"preserve\" text-anchor=\"middle\" x=\"251.25\" y=\"-40.45\" font-family=\"Times,serif\" font-size=\"14.00\">*</text>\n",
       "</g>\n",
       "<!-- 4645837968&#45;&gt;4642070672* -->\n",
       "<g id=\"edge4\" class=\"edge\">\n",
       "<title>4645837968&#45;&gt;4642070672*</title>\n",
       "<path fill=\"none\" stroke=\"black\" d=\"M185.81,-57.13C195.66,-55.35 205.21,-53.63 213.82,-52.08\"/>\n",
       "<polygon fill=\"black\" stroke=\"black\" points=\"214.19,-55.57 223.41,-50.34 212.95,-48.68 214.19,-55.57\"/>\n",
       "</g>\n",
       "<!-- 4642070672 -->\n",
       "<g id=\"node5\" class=\"node\">\n",
       "<title>4642070672</title>\n",
       "<polygon fill=\"none\" stroke=\"black\" points=\"314.25,-27.5 314.25,-63.5 515.25,-63.5 515.25,-27.5 314.25,-27.5\"/>\n",
       "<text xml:space=\"preserve\" text-anchor=\"middle\" x=\"332\" y=\"-40.7\" font-family=\"Times,serif\" font-size=\"14.00\">a*b</text>\n",
       "<polyline fill=\"none\" stroke=\"black\" points=\"349.75,-28 349.75,-63.5\"/>\n",
       "<text xml:space=\"preserve\" text-anchor=\"middle\" x=\"391.88\" y=\"-40.7\" font-family=\"Times,serif\" font-size=\"14.00\">data &#45;6.0000</text>\n",
       "<polyline fill=\"none\" stroke=\"black\" points=\"434,-28 434,-63.5\"/>\n",
       "<text xml:space=\"preserve\" text-anchor=\"middle\" x=\"474.62\" y=\"-40.7\" font-family=\"Times,serif\" font-size=\"14.00\">grad 0.0000</text>\n",
       "</g>\n",
       "<!-- 4642070672&#45;&gt;4645845392+ -->\n",
       "<g id=\"edge5\" class=\"edge\">\n",
       "<title>4642070672&#45;&gt;4645845392+</title>\n",
       "<path fill=\"none\" stroke=\"black\" d=\"M515.73,-62.22C524.37,-63.66 532.7,-65.05 540.29,-66.32\"/>\n",
       "<polygon fill=\"black\" stroke=\"black\" points=\"539.61,-69.76 550.05,-67.95 540.76,-62.85 539.61,-69.76\"/>\n",
       "</g>\n",
       "<!-- 4642070672*&#45;&gt;4642070672 -->\n",
       "<g id=\"edge2\" class=\"edge\">\n",
       "<title>4642070672*&#45;&gt;4642070672</title>\n",
       "<path fill=\"none\" stroke=\"black\" d=\"M278.56,-45.5C285.66,-45.5 293.81,-45.5 302.52,-45.5\"/>\n",
       "<polygon fill=\"black\" stroke=\"black\" points=\"302.29,-49 312.29,-45.5 302.29,-42 302.29,-49\"/>\n",
       "</g>\n",
       "<!-- 4645273936 -->\n",
       "<g id=\"node7\" class=\"node\">\n",
       "<title>4645273936</title>\n",
       "<polygon fill=\"none\" stroke=\"black\" points=\"0,-0.5 0,-36.5 188.25,-36.5 188.25,-0.5 0,-0.5\"/>\n",
       "<text xml:space=\"preserve\" text-anchor=\"middle\" x=\"11.38\" y=\"-13.7\" font-family=\"Times,serif\" font-size=\"14.00\">b</text>\n",
       "<polyline fill=\"none\" stroke=\"black\" points=\"22.75,-1 22.75,-36.5\"/>\n",
       "<text xml:space=\"preserve\" text-anchor=\"middle\" x=\"64.88\" y=\"-13.7\" font-family=\"Times,serif\" font-size=\"14.00\">data &#45;3.0000</text>\n",
       "<polyline fill=\"none\" stroke=\"black\" points=\"107,-1 107,-36.5\"/>\n",
       "<text xml:space=\"preserve\" text-anchor=\"middle\" x=\"147.62\" y=\"-13.7\" font-family=\"Times,serif\" font-size=\"14.00\">grad 0.0000</text>\n",
       "</g>\n",
       "<!-- 4645273936&#45;&gt;4642070672* -->\n",
       "<g id=\"edge6\" class=\"edge\">\n",
       "<title>4645273936&#45;&gt;4642070672*</title>\n",
       "<path fill=\"none\" stroke=\"black\" d=\"M188.49,-34.75C197.27,-36.28 205.77,-37.76 213.51,-39.1\"/>\n",
       "<polygon fill=\"black\" stroke=\"black\" points=\"212.66,-42.51 223.11,-40.78 213.86,-35.61 212.66,-42.51\"/>\n",
       "</g>\n",
       "<!-- 4645837648 -->\n",
       "<g id=\"node8\" class=\"node\">\n",
       "<title>4645837648</title>\n",
       "<polygon fill=\"none\" stroke=\"black\" points=\"641.25,-109.5 641.25,-145.5 827.25,-145.5 827.25,-109.5 641.25,-109.5\"/>\n",
       "<text xml:space=\"preserve\" text-anchor=\"middle\" x=\"651.5\" y=\"-122.7\" font-family=\"Times,serif\" font-size=\"14.00\">f</text>\n",
       "<polyline fill=\"none\" stroke=\"black\" points=\"661.75,-110 661.75,-145.5\"/>\n",
       "<text xml:space=\"preserve\" text-anchor=\"middle\" x=\"703.88\" y=\"-122.7\" font-family=\"Times,serif\" font-size=\"14.00\">data &#45;2.0000</text>\n",
       "<polyline fill=\"none\" stroke=\"black\" points=\"746,-110 746,-145.5\"/>\n",
       "<text xml:space=\"preserve\" text-anchor=\"middle\" x=\"786.62\" y=\"-122.7\" font-family=\"Times,serif\" font-size=\"14.00\">grad 0.0000</text>\n",
       "</g>\n",
       "<!-- 4645837648&#45;&gt;4645832208* -->\n",
       "<g id=\"edge8\" class=\"edge\">\n",
       "<title>4645837648&#45;&gt;4645832208*</title>\n",
       "<path fill=\"none\" stroke=\"black\" d=\"M827.5,-110.73C836.35,-109.12 844.92,-107.56 852.71,-106.14\"/>\n",
       "<polygon fill=\"black\" stroke=\"black\" points=\"853.18,-109.62 862.4,-104.38 851.93,-102.73 853.18,-109.62\"/>\n",
       "</g>\n",
       "<!-- 4645845392 -->\n",
       "<g id=\"node9\" class=\"node\">\n",
       "<title>4645845392</title>\n",
       "<polygon fill=\"none\" stroke=\"black\" points=\"642.38,-54.5 642.38,-90.5 826.12,-90.5 826.12,-54.5 642.38,-54.5\"/>\n",
       "<text xml:space=\"preserve\" text-anchor=\"middle\" x=\"653.75\" y=\"-67.7\" font-family=\"Times,serif\" font-size=\"14.00\">d</text>\n",
       "<polyline fill=\"none\" stroke=\"black\" points=\"665.12,-55 665.12,-90.5\"/>\n",
       "<text xml:space=\"preserve\" text-anchor=\"middle\" x=\"705\" y=\"-67.7\" font-family=\"Times,serif\" font-size=\"14.00\">data 4.0000</text>\n",
       "<polyline fill=\"none\" stroke=\"black\" points=\"744.88,-55 744.88,-90.5\"/>\n",
       "<text xml:space=\"preserve\" text-anchor=\"middle\" x=\"785.5\" y=\"-67.7\" font-family=\"Times,serif\" font-size=\"14.00\">grad 0.0000</text>\n",
       "</g>\n",
       "<!-- 4645845392&#45;&gt;4645832208* -->\n",
       "<g id=\"edge9\" class=\"edge\">\n",
       "<title>4645845392&#45;&gt;4645832208*</title>\n",
       "<path fill=\"none\" stroke=\"black\" d=\"M826.61,-88.52C835.75,-90.12 844.61,-91.67 852.65,-93.08\"/>\n",
       "<polygon fill=\"black\" stroke=\"black\" points=\"851.83,-96.49 862.29,-94.77 853.04,-89.6 851.83,-96.49\"/>\n",
       "</g>\n",
       "<!-- 4645845392+&#45;&gt;4645845392 -->\n",
       "<g id=\"edge3\" class=\"edge\">\n",
       "<title>4645845392+&#45;&gt;4645845392</title>\n",
       "<path fill=\"none\" stroke=\"black\" d=\"M605.72,-72.5C613.12,-72.5 621.63,-72.5 630.68,-72.5\"/>\n",
       "<polygon fill=\"black\" stroke=\"black\" points=\"630.42,-76 640.42,-72.5 630.42,-69 630.42,-76\"/>\n",
       "</g>\n",
       "</g>\n",
       "</svg>\n"
      ],
      "text/plain": [
       "<graphviz.graphs.Digraph at 0x114b328d0>"
      ]
     },
     "execution_count": 63,
     "metadata": {},
     "output_type": "execute_result"
    }
   ],
   "source": [
    "draw_dot(L)"
   ]
  },
  {
   "cell_type": "markdown",
   "id": "e937c774-8474-41f5-8130-235972f67ad8",
   "metadata": {},
   "source": [
    "In each of the above nodes we can store in Value.grad the derivative wrt L $dN/dL$. This can be determined using backpropagtion and the chain rule.\n",
    "\n",
    "To start with: $L = d * f$, so $dL/dd = f$\n",
    "\n",
    "Similarly, $dL/df = d$\n",
    "\n",
    "Therefore f.grad = 4.0 and d.grad = -2.0.\n",
    "\n",
    "Before calculating dL/dc, we can calcuate dd/dc. Since $d = c + (a*b)$, then $dd/dc = 1.0$. In fact when adding we can just propagate the grad of the output back to both inputs, since the \"local\" derivative $dIn/dOut$ is always 1.0, so by the chain rule $dL/dIn = dIn/dOut * dOut/dL = dOut/dL$."
   ]
  },
  {
   "cell_type": "code",
   "execution_count": 64,
   "id": "aec55310-a302-43ba-b4b2-97f0f8836001",
   "metadata": {},
   "outputs": [],
   "source": [
    "L.grad = 1.0\n",
    "f.grad = d.data\n",
    "d.grad = f.data\n",
    "c.grad = d.grad\n",
    "a.grad = d.grad * b.data\n",
    "b.grad = d.grad * a.data"
   ]
  },
  {
   "cell_type": "code",
   "execution_count": 65,
   "id": "dee99a75-7e3d-4eb6-a74d-ec8b36ce76c3",
   "metadata": {},
   "outputs": [
    {
     "data": {
      "image/svg+xml": [
       "<?xml version=\"1.0\" encoding=\"UTF-8\" standalone=\"no\"?>\n",
       "<!DOCTYPE svg PUBLIC \"-//W3C//DTD SVG 1.1//EN\"\n",
       " \"http://www.w3.org/Graphics/SVG/1.1/DTD/svg11.dtd\">\n",
       "<!-- Generated by graphviz version 13.1.1 (20250719.2154)\n",
       " -->\n",
       "<!-- Pages: 1 -->\n",
       "<svg width=\"1158pt\" height=\"154pt\"\n",
       " viewBox=\"0.00 0.00 1158.00 154.00\" xmlns=\"http://www.w3.org/2000/svg\" xmlns:xlink=\"http://www.w3.org/1999/xlink\">\n",
       "<g id=\"graph0\" class=\"graph\" transform=\"scale(1 1) rotate(0) translate(4 150)\">\n",
       "<polygon fill=\"white\" stroke=\"none\" points=\"-4,4 -4,-150 1153.75,-150 1153.75,4 -4,4\"/>\n",
       "<!-- 4645832208 -->\n",
       "<g id=\"node1\" class=\"node\">\n",
       "<title>4645832208</title>\n",
       "<polygon fill=\"none\" stroke=\"black\" points=\"960,-81.5 960,-117.5 1149.75,-117.5 1149.75,-81.5 960,-81.5\"/>\n",
       "<text xml:space=\"preserve\" text-anchor=\"middle\" x=\"972.12\" y=\"-94.7\" font-family=\"Times,serif\" font-size=\"14.00\">L</text>\n",
       "<polyline fill=\"none\" stroke=\"black\" points=\"984.25,-82 984.25,-117.5\"/>\n",
       "<text xml:space=\"preserve\" text-anchor=\"middle\" x=\"1026.38\" y=\"-94.7\" font-family=\"Times,serif\" font-size=\"14.00\">data &#45;8.0000</text>\n",
       "<polyline fill=\"none\" stroke=\"black\" points=\"1068.5,-82 1068.5,-117.5\"/>\n",
       "<text xml:space=\"preserve\" text-anchor=\"middle\" x=\"1109.12\" y=\"-94.7\" font-family=\"Times,serif\" font-size=\"14.00\">grad 1.0000</text>\n",
       "</g>\n",
       "<!-- 4645832208* -->\n",
       "<g id=\"node2\" class=\"node\">\n",
       "<title>4645832208*</title>\n",
       "<ellipse fill=\"none\" stroke=\"black\" cx=\"897\" cy=\"-99.5\" rx=\"27\" ry=\"18\"/>\n",
       "<text xml:space=\"preserve\" text-anchor=\"middle\" x=\"897\" y=\"-94.45\" font-family=\"Times,serif\" font-size=\"14.00\">*</text>\n",
       "</g>\n",
       "<!-- 4645832208*&#45;&gt;4645832208 -->\n",
       "<g id=\"edge1\" class=\"edge\">\n",
       "<title>4645832208*&#45;&gt;4645832208</title>\n",
       "<path fill=\"none\" stroke=\"black\" d=\"M924.44,-99.5C931.59,-99.5 939.78,-99.5 948.49,-99.5\"/>\n",
       "<polygon fill=\"black\" stroke=\"black\" points=\"948.26,-103 958.26,-99.5 948.26,-96 948.26,-103\"/>\n",
       "</g>\n",
       "<!-- 4391571984 -->\n",
       "<g id=\"node3\" class=\"node\">\n",
       "<title>4391571984</title>\n",
       "<polygon fill=\"none\" stroke=\"black\" points=\"322.12,-82.5 322.12,-118.5 516.38,-118.5 516.38,-82.5 322.12,-82.5\"/>\n",
       "<text xml:space=\"preserve\" text-anchor=\"middle\" x=\"333.12\" y=\"-95.7\" font-family=\"Times,serif\" font-size=\"14.00\">c</text>\n",
       "<polyline fill=\"none\" stroke=\"black\" points=\"344.12,-83 344.12,-118.5\"/>\n",
       "<text xml:space=\"preserve\" text-anchor=\"middle\" x=\"387.38\" y=\"-95.7\" font-family=\"Times,serif\" font-size=\"14.00\">data 10.0000</text>\n",
       "<polyline fill=\"none\" stroke=\"black\" points=\"430.62,-83 430.62,-118.5\"/>\n",
       "<text xml:space=\"preserve\" text-anchor=\"middle\" x=\"473.5\" y=\"-95.7\" font-family=\"Times,serif\" font-size=\"14.00\">grad &#45;2.0000</text>\n",
       "</g>\n",
       "<!-- 4645845392+ -->\n",
       "<g id=\"node10\" class=\"node\">\n",
       "<title>4645845392+</title>\n",
       "<ellipse fill=\"none\" stroke=\"black\" cx=\"582.75\" cy=\"-72.5\" rx=\"27\" ry=\"18\"/>\n",
       "<text xml:space=\"preserve\" text-anchor=\"middle\" x=\"582.75\" y=\"-67.45\" font-family=\"Times,serif\" font-size=\"14.00\">+</text>\n",
       "</g>\n",
       "<!-- 4391571984&#45;&gt;4645845392+ -->\n",
       "<g id=\"edge7\" class=\"edge\">\n",
       "<title>4391571984&#45;&gt;4645845392+</title>\n",
       "<path fill=\"none\" stroke=\"black\" d=\"M516.53,-83.81C526.56,-82.07 536.26,-80.39 544.97,-78.88\"/>\n",
       "<polygon fill=\"black\" stroke=\"black\" points=\"545.44,-82.35 554.7,-77.19 544.25,-75.45 545.44,-82.35\"/>\n",
       "</g>\n",
       "<!-- 4645837968 -->\n",
       "<g id=\"node4\" class=\"node\">\n",
       "<title>4645837968</title>\n",
       "<polygon fill=\"none\" stroke=\"black\" points=\"4.88,-55.5 4.88,-91.5 187.88,-91.5 187.88,-55.5 4.88,-55.5\"/>\n",
       "<text xml:space=\"preserve\" text-anchor=\"middle\" x=\"15.88\" y=\"-68.7\" font-family=\"Times,serif\" font-size=\"14.00\">a</text>\n",
       "<polyline fill=\"none\" stroke=\"black\" points=\"26.88,-56 26.88,-91.5\"/>\n",
       "<text xml:space=\"preserve\" text-anchor=\"middle\" x=\"66.75\" y=\"-68.7\" font-family=\"Times,serif\" font-size=\"14.00\">data 2.0000</text>\n",
       "<polyline fill=\"none\" stroke=\"black\" points=\"106.62,-56 106.62,-91.5\"/>\n",
       "<text xml:space=\"preserve\" text-anchor=\"middle\" x=\"147.25\" y=\"-68.7\" font-family=\"Times,serif\" font-size=\"14.00\">grad 6.0000</text>\n",
       "</g>\n",
       "<!-- 4642070672* -->\n",
       "<g id=\"node6\" class=\"node\">\n",
       "<title>4642070672*</title>\n",
       "<ellipse fill=\"none\" stroke=\"black\" cx=\"255.75\" cy=\"-45.5\" rx=\"27\" ry=\"18\"/>\n",
       "<text xml:space=\"preserve\" text-anchor=\"middle\" x=\"255.75\" y=\"-40.45\" font-family=\"Times,serif\" font-size=\"14.00\">*</text>\n",
       "</g>\n",
       "<!-- 4645837968&#45;&gt;4642070672* -->\n",
       "<g id=\"edge4\" class=\"edge\">\n",
       "<title>4645837968&#45;&gt;4642070672*</title>\n",
       "<path fill=\"none\" stroke=\"black\" d=\"M188.01,-57.37C198.67,-55.48 209.04,-53.63 218.3,-51.99\"/>\n",
       "<polygon fill=\"black\" stroke=\"black\" points=\"218.65,-55.48 227.88,-50.28 217.42,-48.59 218.65,-55.48\"/>\n",
       "</g>\n",
       "<!-- 4642070672 -->\n",
       "<g id=\"node5\" class=\"node\">\n",
       "<title>4642070672</title>\n",
       "<polygon fill=\"none\" stroke=\"black\" points=\"318.75,-27.5 318.75,-63.5 519.75,-63.5 519.75,-27.5 318.75,-27.5\"/>\n",
       "<text xml:space=\"preserve\" text-anchor=\"middle\" x=\"336.5\" y=\"-40.7\" font-family=\"Times,serif\" font-size=\"14.00\">a*b</text>\n",
       "<polyline fill=\"none\" stroke=\"black\" points=\"354.25,-28 354.25,-63.5\"/>\n",
       "<text xml:space=\"preserve\" text-anchor=\"middle\" x=\"396.38\" y=\"-40.7\" font-family=\"Times,serif\" font-size=\"14.00\">data &#45;6.0000</text>\n",
       "<polyline fill=\"none\" stroke=\"black\" points=\"438.5,-28 438.5,-63.5\"/>\n",
       "<text xml:space=\"preserve\" text-anchor=\"middle\" x=\"479.12\" y=\"-40.7\" font-family=\"Times,serif\" font-size=\"14.00\">grad 0.0000</text>\n",
       "</g>\n",
       "<!-- 4642070672&#45;&gt;4645845392+ -->\n",
       "<g id=\"edge5\" class=\"edge\">\n",
       "<title>4642070672&#45;&gt;4645845392+</title>\n",
       "<path fill=\"none\" stroke=\"black\" d=\"M520.23,-62.22C528.87,-63.66 537.2,-65.05 544.79,-66.32\"/>\n",
       "<polygon fill=\"black\" stroke=\"black\" points=\"544.11,-69.76 554.55,-67.95 545.26,-62.85 544.11,-69.76\"/>\n",
       "</g>\n",
       "<!-- 4642070672*&#45;&gt;4642070672 -->\n",
       "<g id=\"edge2\" class=\"edge\">\n",
       "<title>4642070672*&#45;&gt;4642070672</title>\n",
       "<path fill=\"none\" stroke=\"black\" d=\"M283.06,-45.5C290.16,-45.5 298.31,-45.5 307.02,-45.5\"/>\n",
       "<polygon fill=\"black\" stroke=\"black\" points=\"306.79,-49 316.79,-45.5 306.79,-42 306.79,-49\"/>\n",
       "</g>\n",
       "<!-- 4645273936 -->\n",
       "<g id=\"node7\" class=\"node\">\n",
       "<title>4645273936</title>\n",
       "<polygon fill=\"none\" stroke=\"black\" points=\"0,-0.5 0,-36.5 192.75,-36.5 192.75,-0.5 0,-0.5\"/>\n",
       "<text xml:space=\"preserve\" text-anchor=\"middle\" x=\"11.38\" y=\"-13.7\" font-family=\"Times,serif\" font-size=\"14.00\">b</text>\n",
       "<polyline fill=\"none\" stroke=\"black\" points=\"22.75,-1 22.75,-36.5\"/>\n",
       "<text xml:space=\"preserve\" text-anchor=\"middle\" x=\"64.88\" y=\"-13.7\" font-family=\"Times,serif\" font-size=\"14.00\">data &#45;3.0000</text>\n",
       "<polyline fill=\"none\" stroke=\"black\" points=\"107,-1 107,-36.5\"/>\n",
       "<text xml:space=\"preserve\" text-anchor=\"middle\" x=\"149.88\" y=\"-13.7\" font-family=\"Times,serif\" font-size=\"14.00\">grad &#45;4.0000</text>\n",
       "</g>\n",
       "<!-- 4645273936&#45;&gt;4642070672* -->\n",
       "<g id=\"edge6\" class=\"edge\">\n",
       "<title>4645273936&#45;&gt;4642070672*</title>\n",
       "<path fill=\"none\" stroke=\"black\" d=\"M193,-34.91C201.81,-36.42 210.32,-37.88 218.06,-39.2\"/>\n",
       "<polygon fill=\"black\" stroke=\"black\" points=\"217.21,-42.61 227.66,-40.85 218.4,-35.71 217.21,-42.61\"/>\n",
       "</g>\n",
       "<!-- 4645837648 -->\n",
       "<g id=\"node8\" class=\"node\">\n",
       "<title>4645837648</title>\n",
       "<polygon fill=\"none\" stroke=\"black\" points=\"646.88,-109.5 646.88,-145.5 832.88,-145.5 832.88,-109.5 646.88,-109.5\"/>\n",
       "<text xml:space=\"preserve\" text-anchor=\"middle\" x=\"657.12\" y=\"-122.7\" font-family=\"Times,serif\" font-size=\"14.00\">f</text>\n",
       "<polyline fill=\"none\" stroke=\"black\" points=\"667.38,-110 667.38,-145.5\"/>\n",
       "<text xml:space=\"preserve\" text-anchor=\"middle\" x=\"709.5\" y=\"-122.7\" font-family=\"Times,serif\" font-size=\"14.00\">data &#45;2.0000</text>\n",
       "<polyline fill=\"none\" stroke=\"black\" points=\"751.62,-110 751.62,-145.5\"/>\n",
       "<text xml:space=\"preserve\" text-anchor=\"middle\" x=\"792.25\" y=\"-122.7\" font-family=\"Times,serif\" font-size=\"14.00\">grad 4.0000</text>\n",
       "</g>\n",
       "<!-- 4645837648&#45;&gt;4645832208* -->\n",
       "<g id=\"edge8\" class=\"edge\">\n",
       "<title>4645837648&#45;&gt;4645832208*</title>\n",
       "<path fill=\"none\" stroke=\"black\" d=\"M833.35,-110.81C842.51,-109.16 851.37,-107.56 859.42,-106.1\"/>\n",
       "<polygon fill=\"black\" stroke=\"black\" points=\"859.84,-109.58 869.06,-104.36 858.59,-102.7 859.84,-109.58\"/>\n",
       "</g>\n",
       "<!-- 4645845392 -->\n",
       "<g id=\"node9\" class=\"node\">\n",
       "<title>4645845392</title>\n",
       "<polygon fill=\"none\" stroke=\"black\" points=\"645.75,-54.5 645.75,-90.5 834,-90.5 834,-54.5 645.75,-54.5\"/>\n",
       "<text xml:space=\"preserve\" text-anchor=\"middle\" x=\"657.12\" y=\"-67.7\" font-family=\"Times,serif\" font-size=\"14.00\">d</text>\n",
       "<polyline fill=\"none\" stroke=\"black\" points=\"668.5,-55 668.5,-90.5\"/>\n",
       "<text xml:space=\"preserve\" text-anchor=\"middle\" x=\"708.38\" y=\"-67.7\" font-family=\"Times,serif\" font-size=\"14.00\">data 4.0000</text>\n",
       "<polyline fill=\"none\" stroke=\"black\" points=\"748.25,-55 748.25,-90.5\"/>\n",
       "<text xml:space=\"preserve\" text-anchor=\"middle\" x=\"791.12\" y=\"-67.7\" font-family=\"Times,serif\" font-size=\"14.00\">grad &#45;2.0000</text>\n",
       "</g>\n",
       "<!-- 4645845392&#45;&gt;4645832208* -->\n",
       "<g id=\"edge9\" class=\"edge\">\n",
       "<title>4645845392&#45;&gt;4645832208*</title>\n",
       "<path fill=\"none\" stroke=\"black\" d=\"M834.24,-88.75C843.02,-90.28 851.52,-91.76 859.26,-93.1\"/>\n",
       "<polygon fill=\"black\" stroke=\"black\" points=\"858.41,-96.51 868.86,-94.78 859.61,-89.61 858.41,-96.51\"/>\n",
       "</g>\n",
       "<!-- 4645845392+&#45;&gt;4645845392 -->\n",
       "<g id=\"edge3\" class=\"edge\">\n",
       "<title>4645845392+&#45;&gt;4645845392</title>\n",
       "<path fill=\"none\" stroke=\"black\" d=\"M610.06,-72.5C617.24,-72.5 625.47,-72.5 634.22,-72.5\"/>\n",
       "<polygon fill=\"black\" stroke=\"black\" points=\"634.04,-76 644.04,-72.5 634.04,-69 634.04,-76\"/>\n",
       "</g>\n",
       "</g>\n",
       "</svg>\n"
      ],
      "text/plain": [
       "<graphviz.graphs.Digraph at 0x114b04710>"
      ]
     },
     "execution_count": 65,
     "metadata": {},
     "output_type": "execute_result"
    }
   ],
   "source": [
    "draw_dot(L)"
   ]
  },
  {
   "cell_type": "markdown",
   "id": "2d74a0dc-ae1c-4d64-841b-b5f69a40d5a4",
   "metadata": {},
   "source": [
    "Note that in above we didn't assign a grad value to (a*b), because we don't have a reference to the intermediate value in the formula $d= a*b + c$, but with an automated backpropagation that walks the _prev attribute this can be done (or we could have used d._prev to do this manually."
   ]
  },
  {
   "cell_type": "code",
   "execution_count": 68,
   "id": "2d6a8e6e-9166-4a28-aa19-76315c11ca00",
   "metadata": {},
   "outputs": [
    {
     "name": "stdout",
     "output_type": "stream",
     "text": [
      "0.0\n",
      "-2.0\n"
     ]
    }
   ],
   "source": [
    "for i in d._prev:\n",
    "    print(i.grad)"
   ]
  },
  {
   "attachments": {
    "68ffe1b6-429d-42ac-bc47-cf1e9ebb906d.png": {
     "image/png": "[encoded data removed]"
    }
   },
   "cell_type": "markdown",
   "id": "32d0e78c-88c9-4f12-8d8b-e1276ca3f969",
   "metadata": {},
   "source": [
    "Instead of an arbitrary mathematical expression we will create a model of a neuron. This model will be very simple compared to an actual neuron which looks like this:\n",
    "\n",
    "![neuron-structure-conceptpng.png](attachment:68ffe1b6-429d-42ac-bc47-cf1e9ebb906d.png)"
   ]
  },
  {
   "cell_type": "markdown",
   "id": "99682bbc-1c23-4635-929f-c892cb59b993",
   "metadata": {},
   "source": [
    "Here is a visualization of an artificial neuron model. There are $m$ inputs $x_i$ which are multiplied by weights $w_ki$ and summed. A bias $b$ is added and the result is fed to an activation function (eg sigmoid or tanh) to produce the output."
   ]
  },
  {
   "attachments": {
    "03ff6dac-23ea-4f7a-b307-0267006ce2cb.png": {
     "image/png": "[encoded data removed]"
    }
   },
   "cell_type": "markdown",
   "id": "778ee510-52de-4531-8a7e-d7412bb11154",
   "metadata": {},
   "source": [
    "![neuron.png](attachment:03ff6dac-23ea-4f7a-b307-0267006ce2cb.png)"
   ]
  },
  {
   "cell_type": "markdown",
   "id": "74c0b20b-3eeb-496f-9f8b-10829972c934",
   "metadata": {},
   "source": [
    "Here we can visualize the tanh function which we will use for the activation function.\n",
    "\n",
    "More about tanh() here: https://en.wikipedia.org/wiki/Hyperbolic_functions"
   ]
  },
  {
   "cell_type": "code",
   "execution_count": 69,
   "id": "79a2b4d4-4b72-49b6-a9b6-d01fe95822d5",
   "metadata": {},
   "outputs": [
    {
     "data": {
      "image/png": "[encoded data removed]",
      "text/plain": [
       "<Figure size 640x480 with 1 Axes>"
      ]
     },
     "metadata": {},
     "output_type": "display_data"
    }
   ],
   "source": [
    "plt.plot(np.arange(-5,5,0.2), np.tanh(np.arange(-5,5,0.2))); plt.grid()"
   ]
  },
  {
   "cell_type": "markdown",
   "id": "3cfc0233-dbce-4c54-8b40-e300c4f1ad94",
   "metadata": {},
   "source": [
    "The benefit of the activation function is:\n",
    "* Introduces non-linearity, allowing the Neuron's output to model more complex results than a simple linear function\n",
    "* Squashes the input values to a fixed range\n",
    "* May be used to discard or propagate results (the \"activation\" part)\n",
    "\n",
    "The $tanh()$ function is commonly applied to \"inner\" neurons in a neural network due to its symmetry around zero. Output layers may instead use Sigmoid or ReLU."
   ]
  },
  {
   "cell_type": "markdown",
   "id": "d9e2fd15-a81f-43a2-b829-9597048149ff",
   "metadata": {},
   "source": [
    "Below we can construct a simple Neuron with 2 inputs x1,x2 based on the above model"
   ]
  },
  {
   "cell_type": "code",
   "execution_count": 132,
   "id": "ec020410-a72a-412f-b4bc-9f5d5932eb5f",
   "metadata": {},
   "outputs": [],
   "source": [
    "# inputs x1,x2\n",
    "x1 = Value(2.0, label='x1')\n",
    "x2 = Value(0.0, label='x2')\n",
    "# weights w1,w2\n",
    "w1 = Value(-3.0, label='w1')\n",
    "w2 = Value(1.0, label='w2')\n",
    "# bias of the neuron\n",
    "b = Value(6.8813735870195432, label='b')\n",
    "# x1*w1 + x2*w2 + b\n",
    "x1w1 = x1*w1; #x1w1.label = 'x1*w1'\n",
    "x2w2 = x2*w2; #x2w2.label = 'x2*w2'\n",
    "x1w1x2w2 = x1w1 + x2w2; #x1w1x2w2.label = 'x1*w1 + x2*w2'\n",
    "n = x1w1x2w2 + b; n.label = 'n'\n",
    "# output = tanh(n)\n",
    "o = n.tanh(); o.label = 'o'"
   ]
  },
  {
   "cell_type": "markdown",
   "id": "013953a6-7a74-4eac-a54d-97aaf8271141",
   "metadata": {},
   "source": [
    "Below we can draw the expression and manually assign the grad values manually"
   ]
  },
  {
   "cell_type": "code",
   "execution_count": 96,
   "id": "207292f9-1400-4dd3-8eab-47cbf75eec5f",
   "metadata": {},
   "outputs": [],
   "source": [
    "# do/do is always just 1.0\n",
    "o.grad = 1.0\n",
    "\n",
    "# o = tanh(n)\n",
    "# do/dn = 1 - tanh(n)^2 = 1 - o^2\n",
    "n.grad = 1 - o.data ** 2\n",
    "\n",
    "# For + operation we just propagate grad to the child nodes\n",
    "# Note that these should be addition += not just assignment\n",
    "# to handle the case of an expression like b = a + a, where\n",
    "# the db/da = 2.0 and a.grad = 2.0 * b.grad, but assignment\n",
    "# would result in just a.grad = b.grad.\n",
    "b.grad = n.grad\n",
    "x1w1x2w2.grad = n.grad\n",
    "\n",
    "x1w1.grad = x1w1x2w2.grad\n",
    "x2w2.grad = x1w1x2w2.grad\n",
    "\n",
    "# For * operation the grad is propagated from the parent\n",
    "# by multiplying by other.data.\n",
    "x1.grad = w1.data * x1w1.grad\n",
    "w1.grad = x1.data * x1w1.grad\n",
    "\n",
    "x2.grad = w2.data * x2w2.grad\n",
    "w2.grad = x2.data * x2w2.grad"
   ]
  },
  {
   "cell_type": "code",
   "execution_count": 134,
   "id": "197f350c-2813-4413-b293-9ef046d5ebd5",
   "metadata": {},
   "outputs": [
    {
     "data": {
      "image/svg+xml": [
       "<?xml version=\"1.0\" encoding=\"UTF-8\" standalone=\"no\"?>\n",
       "<!DOCTYPE svg PUBLIC \"-//W3C//DTD SVG 1.1//EN\"\n",
       " \"http://www.w3.org/Graphics/SVG/1.1/DTD/svg11.dtd\">\n",
       "<!-- Generated by graphviz version 13.1.1 (20250719.2154)\n",
       " -->\n",
       "<!-- Pages: 1 -->\n",
       "<svg width=\"1559pt\" height=\"210pt\"\n",
       " viewBox=\"0.00 0.00 1559.00 210.00\" xmlns=\"http://www.w3.org/2000/svg\" xmlns:xlink=\"http://www.w3.org/1999/xlink\">\n",
       "<g id=\"graph0\" class=\"graph\" transform=\"scale(1 1) rotate(0) translate(4 206)\">\n",
       "<polygon fill=\"white\" stroke=\"none\" points=\"-4,4 -4,-206 1555,-206 1555,4 -4,4\"/>\n",
       "<!-- 4648086032 -->\n",
       "<g id=\"node1\" class=\"node\">\n",
       "<title>4648086032</title>\n",
       "<polygon fill=\"none\" stroke=\"black\" points=\"0,-165.5 0,-201.5 198,-201.5 198,-165.5 0,-165.5\"/>\n",
       "<text xml:space=\"preserve\" text-anchor=\"middle\" x=\"16.25\" y=\"-178.7\" font-family=\"Times,serif\" font-size=\"14.00\">w1</text>\n",
       "<polyline fill=\"none\" stroke=\"black\" points=\"32.5,-166 32.5,-201.5\"/>\n",
       "<text xml:space=\"preserve\" text-anchor=\"middle\" x=\"74.62\" y=\"-178.7\" font-family=\"Times,serif\" font-size=\"14.00\">data &#45;3.0000</text>\n",
       "<polyline fill=\"none\" stroke=\"black\" points=\"116.75,-166 116.75,-201.5\"/>\n",
       "<text xml:space=\"preserve\" text-anchor=\"middle\" x=\"157.38\" y=\"-178.7\" font-family=\"Times,serif\" font-size=\"14.00\">grad 1.0000</text>\n",
       "</g>\n",
       "<!-- 4648084816* -->\n",
       "<g id=\"node12\" class=\"node\">\n",
       "<title>4648084816*</title>\n",
       "<ellipse fill=\"none\" stroke=\"black\" cx=\"261\" cy=\"-128.5\" rx=\"27\" ry=\"18\"/>\n",
       "<text xml:space=\"preserve\" text-anchor=\"middle\" x=\"261\" y=\"-123.45\" font-family=\"Times,serif\" font-size=\"14.00\">*</text>\n",
       "</g>\n",
       "<!-- 4648086032&#45;&gt;4648084816* -->\n",
       "<g id=\"edge8\" class=\"edge\">\n",
       "<title>4648086032&#45;&gt;4648084816*</title>\n",
       "<path fill=\"none\" stroke=\"black\" d=\"M172.12,-165.01C180.9,-162.35 189.7,-159.5 198,-156.5 208.09,-152.86 218.82,-148.27 228.47,-143.88\"/>\n",
       "<polygon fill=\"black\" stroke=\"black\" points=\"229.86,-147.09 237.45,-139.69 226.9,-140.75 229.86,-147.09\"/>\n",
       "</g>\n",
       "<!-- 4648078736 -->\n",
       "<g id=\"node2\" class=\"node\">\n",
       "<title>4648078736</title>\n",
       "<polygon fill=\"none\" stroke=\"black\" points=\"326.25,-55.5 326.25,-91.5 540,-91.5 540,-55.5 326.25,-55.5\"/>\n",
       "<text xml:space=\"preserve\" text-anchor=\"middle\" x=\"352.62\" y=\"-68.7\" font-family=\"Times,serif\" font-size=\"14.00\">x2*w2</text>\n",
       "<polyline fill=\"none\" stroke=\"black\" points=\"379,-56 379,-91.5\"/>\n",
       "<text xml:space=\"preserve\" text-anchor=\"middle\" x=\"418.88\" y=\"-68.7\" font-family=\"Times,serif\" font-size=\"14.00\">data 0.0000</text>\n",
       "<polyline fill=\"none\" stroke=\"black\" points=\"458.75,-56 458.75,-91.5\"/>\n",
       "<text xml:space=\"preserve\" text-anchor=\"middle\" x=\"499.38\" y=\"-68.7\" font-family=\"Times,serif\" font-size=\"14.00\">grad 0.5000</text>\n",
       "</g>\n",
       "<!-- 4648079248+ -->\n",
       "<g id=\"node5\" class=\"node\">\n",
       "<title>4648079248+</title>\n",
       "<ellipse fill=\"none\" stroke=\"black\" cx=\"605.25\" cy=\"-100.5\" rx=\"27\" ry=\"18\"/>\n",
       "<text xml:space=\"preserve\" text-anchor=\"middle\" x=\"605.25\" y=\"-95.45\" font-family=\"Times,serif\" font-size=\"14.00\">+</text>\n",
       "</g>\n",
       "<!-- 4648078736&#45;&gt;4648079248+ -->\n",
       "<g id=\"edge11\" class=\"edge\">\n",
       "<title>4648078736&#45;&gt;4648079248+</title>\n",
       "<path fill=\"none\" stroke=\"black\" d=\"M540.42,-90.37C549.89,-91.87 559,-93.32 567.21,-94.62\"/>\n",
       "<polygon fill=\"black\" stroke=\"black\" points=\"566.63,-98.07 577.05,-96.18 567.72,-91.16 566.63,-98.07\"/>\n",
       "</g>\n",
       "<!-- 4648078736* -->\n",
       "<g id=\"node3\" class=\"node\">\n",
       "<title>4648078736*</title>\n",
       "<ellipse fill=\"none\" stroke=\"black\" cx=\"261\" cy=\"-73.5\" rx=\"27\" ry=\"18\"/>\n",
       "<text xml:space=\"preserve\" text-anchor=\"middle\" x=\"261\" y=\"-68.45\" font-family=\"Times,serif\" font-size=\"14.00\">*</text>\n",
       "</g>\n",
       "<!-- 4648078736*&#45;&gt;4648078736 -->\n",
       "<g id=\"edge1\" class=\"edge\">\n",
       "<title>4648078736*&#45;&gt;4648078736</title>\n",
       "<path fill=\"none\" stroke=\"black\" d=\"M288.21,-73.5C296,-73.5 305.08,-73.5 314.82,-73.5\"/>\n",
       "<polygon fill=\"black\" stroke=\"black\" points=\"314.55,-77 324.55,-73.5 314.55,-70 314.55,-77\"/>\n",
       "</g>\n",
       "<!-- 4648079248 -->\n",
       "<g id=\"node4\" class=\"node\">\n",
       "<title>4648079248</title>\n",
       "<polygon fill=\"none\" stroke=\"black\" points=\"668.25,-82.5 668.25,-118.5 931.5,-118.5 931.5,-82.5 668.25,-82.5\"/>\n",
       "<text xml:space=\"preserve\" text-anchor=\"middle\" x=\"717.12\" y=\"-95.7\" font-family=\"Times,serif\" font-size=\"14.00\">x1*w1+x2*w2</text>\n",
       "<polyline fill=\"none\" stroke=\"black\" points=\"766,-83 766,-118.5\"/>\n",
       "<text xml:space=\"preserve\" text-anchor=\"middle\" x=\"808.12\" y=\"-95.7\" font-family=\"Times,serif\" font-size=\"14.00\">data &#45;6.0000</text>\n",
       "<polyline fill=\"none\" stroke=\"black\" points=\"850.25,-83 850.25,-118.5\"/>\n",
       "<text xml:space=\"preserve\" text-anchor=\"middle\" x=\"890.88\" y=\"-95.7\" font-family=\"Times,serif\" font-size=\"14.00\">grad 0.5000</text>\n",
       "</g>\n",
       "<!-- 4648090256+ -->\n",
       "<g id=\"node7\" class=\"node\">\n",
       "<title>4648090256+</title>\n",
       "<ellipse fill=\"none\" stroke=\"black\" cx=\"994.5\" cy=\"-72.5\" rx=\"27\" ry=\"18\"/>\n",
       "<text xml:space=\"preserve\" text-anchor=\"middle\" x=\"994.5\" y=\"-67.45\" font-family=\"Times,serif\" font-size=\"14.00\">+</text>\n",
       "</g>\n",
       "<!-- 4648079248&#45;&gt;4648090256+ -->\n",
       "<g id=\"edge10\" class=\"edge\">\n",
       "<title>4648079248&#45;&gt;4648090256+</title>\n",
       "<path fill=\"none\" stroke=\"black\" d=\"M928.02,-82.02C938.25,-80.53 947.96,-79.12 956.62,-77.86\"/>\n",
       "<polygon fill=\"black\" stroke=\"black\" points=\"956.84,-81.37 966.23,-76.46 955.83,-74.44 956.84,-81.37\"/>\n",
       "</g>\n",
       "<!-- 4648079248+&#45;&gt;4648079248 -->\n",
       "<g id=\"edge2\" class=\"edge\">\n",
       "<title>4648079248+&#45;&gt;4648079248</title>\n",
       "<path fill=\"none\" stroke=\"black\" d=\"M632.63,-100.5C639.66,-100.5 647.76,-100.5 656.53,-100.5\"/>\n",
       "<polygon fill=\"black\" stroke=\"black\" points=\"656.46,-104 666.46,-100.5 656.46,-97 656.46,-104\"/>\n",
       "</g>\n",
       "<!-- 4648090256 -->\n",
       "<g id=\"node6\" class=\"node\">\n",
       "<title>4648090256</title>\n",
       "<polygon fill=\"none\" stroke=\"black\" points=\"1057.5,-54.5 1057.5,-90.5 1241.25,-90.5 1241.25,-54.5 1057.5,-54.5\"/>\n",
       "<text xml:space=\"preserve\" text-anchor=\"middle\" x=\"1068.88\" y=\"-67.7\" font-family=\"Times,serif\" font-size=\"14.00\">n</text>\n",
       "<polyline fill=\"none\" stroke=\"black\" points=\"1080.25,-55 1080.25,-90.5\"/>\n",
       "<text xml:space=\"preserve\" text-anchor=\"middle\" x=\"1120.12\" y=\"-67.7\" font-family=\"Times,serif\" font-size=\"14.00\">data 0.8814</text>\n",
       "<polyline fill=\"none\" stroke=\"black\" points=\"1160,-55 1160,-90.5\"/>\n",
       "<text xml:space=\"preserve\" text-anchor=\"middle\" x=\"1200.62\" y=\"-67.7\" font-family=\"Times,serif\" font-size=\"14.00\">grad 0.5000</text>\n",
       "</g>\n",
       "<!-- 4648076176tanh -->\n",
       "<g id=\"node14\" class=\"node\">\n",
       "<title>4648076176tanh</title>\n",
       "<ellipse fill=\"none\" stroke=\"black\" cx=\"1304.25\" cy=\"-72.5\" rx=\"27\" ry=\"18\"/>\n",
       "<text xml:space=\"preserve\" text-anchor=\"middle\" x=\"1304.25\" y=\"-67.45\" font-family=\"Times,serif\" font-size=\"14.00\">tanh</text>\n",
       "</g>\n",
       "<!-- 4648090256&#45;&gt;4648076176tanh -->\n",
       "<g id=\"edge7\" class=\"edge\">\n",
       "<title>4648090256&#45;&gt;4648076176tanh</title>\n",
       "<path fill=\"none\" stroke=\"black\" d=\"M1241.51,-72.5C1249.89,-72.5 1258.02,-72.5 1265.48,-72.5\"/>\n",
       "<polygon fill=\"black\" stroke=\"black\" points=\"1265.45,-76 1275.45,-72.5 1265.45,-69 1265.45,-76\"/>\n",
       "</g>\n",
       "<!-- 4648090256+&#45;&gt;4648090256 -->\n",
       "<g id=\"edge3\" class=\"edge\">\n",
       "<title>4648090256+&#45;&gt;4648090256</title>\n",
       "<path fill=\"none\" stroke=\"black\" d=\"M1021.78,-72.5C1028.92,-72.5 1037.11,-72.5 1045.82,-72.5\"/>\n",
       "<polygon fill=\"black\" stroke=\"black\" points=\"1045.56,-76 1055.56,-72.5 1045.56,-69 1045.56,-76\"/>\n",
       "</g>\n",
       "<!-- 4648083728 -->\n",
       "<g id=\"node8\" class=\"node\">\n",
       "<title>4648083728</title>\n",
       "<polygon fill=\"none\" stroke=\"black\" points=\"1.5,-110.5 1.5,-146.5 196.5,-146.5 196.5,-110.5 1.5,-110.5\"/>\n",
       "<text xml:space=\"preserve\" text-anchor=\"middle\" x=\"16.25\" y=\"-123.7\" font-family=\"Times,serif\" font-size=\"14.00\">x1</text>\n",
       "<polyline fill=\"none\" stroke=\"black\" points=\"31,-111 31,-146.5\"/>\n",
       "<text xml:space=\"preserve\" text-anchor=\"middle\" x=\"70.88\" y=\"-123.7\" font-family=\"Times,serif\" font-size=\"14.00\">data 2.0000</text>\n",
       "<polyline fill=\"none\" stroke=\"black\" points=\"110.75,-111 110.75,-146.5\"/>\n",
       "<text xml:space=\"preserve\" text-anchor=\"middle\" x=\"153.62\" y=\"-123.7\" font-family=\"Times,serif\" font-size=\"14.00\">grad &#45;1.5000</text>\n",
       "</g>\n",
       "<!-- 4648083728&#45;&gt;4648084816* -->\n",
       "<g id=\"edge14\" class=\"edge\">\n",
       "<title>4648083728&#45;&gt;4648084816*</title>\n",
       "<path fill=\"none\" stroke=\"black\" d=\"M196.76,-128.5C205.77,-128.5 214.47,-128.5 222.4,-128.5\"/>\n",
       "<polygon fill=\"black\" stroke=\"black\" points=\"222.25,-132 232.25,-128.5 222.25,-125 222.25,-132\"/>\n",
       "</g>\n",
       "<!-- 4648081744 -->\n",
       "<g id=\"node9\" class=\"node\">\n",
       "<title>4648081744</title>\n",
       "<polygon fill=\"none\" stroke=\"black\" points=\"3.75,-55.5 3.75,-91.5 194.25,-91.5 194.25,-55.5 3.75,-55.5\"/>\n",
       "<text xml:space=\"preserve\" text-anchor=\"middle\" x=\"18.5\" y=\"-68.7\" font-family=\"Times,serif\" font-size=\"14.00\">x2</text>\n",
       "<polyline fill=\"none\" stroke=\"black\" points=\"33.25,-56 33.25,-91.5\"/>\n",
       "<text xml:space=\"preserve\" text-anchor=\"middle\" x=\"73.12\" y=\"-68.7\" font-family=\"Times,serif\" font-size=\"14.00\">data 0.0000</text>\n",
       "<polyline fill=\"none\" stroke=\"black\" points=\"113,-56 113,-91.5\"/>\n",
       "<text xml:space=\"preserve\" text-anchor=\"middle\" x=\"153.62\" y=\"-68.7\" font-family=\"Times,serif\" font-size=\"14.00\">grad 0.5000</text>\n",
       "</g>\n",
       "<!-- 4648081744&#45;&gt;4648078736* -->\n",
       "<g id=\"edge13\" class=\"edge\">\n",
       "<title>4648081744&#45;&gt;4648078736*</title>\n",
       "<path fill=\"none\" stroke=\"black\" d=\"M194.46,-73.5C204.21,-73.5 213.66,-73.5 222.21,-73.5\"/>\n",
       "<polygon fill=\"black\" stroke=\"black\" points=\"222.12,-77 232.12,-73.5 222.12,-70 222.12,-77\"/>\n",
       "</g>\n",
       "<!-- 4648090448 -->\n",
       "<g id=\"node10\" class=\"node\">\n",
       "<title>4648090448</title>\n",
       "<polygon fill=\"none\" stroke=\"black\" points=\"2.25,-0.5 2.25,-36.5 195.75,-36.5 195.75,-0.5 2.25,-0.5\"/>\n",
       "<text xml:space=\"preserve\" text-anchor=\"middle\" x=\"18.5\" y=\"-13.7\" font-family=\"Times,serif\" font-size=\"14.00\">w2</text>\n",
       "<polyline fill=\"none\" stroke=\"black\" points=\"34.75,-1 34.75,-36.5\"/>\n",
       "<text xml:space=\"preserve\" text-anchor=\"middle\" x=\"74.62\" y=\"-13.7\" font-family=\"Times,serif\" font-size=\"14.00\">data 1.0000</text>\n",
       "<polyline fill=\"none\" stroke=\"black\" points=\"114.5,-1 114.5,-36.5\"/>\n",
       "<text xml:space=\"preserve\" text-anchor=\"middle\" x=\"155.12\" y=\"-13.7\" font-family=\"Times,serif\" font-size=\"14.00\">grad 0.0000</text>\n",
       "</g>\n",
       "<!-- 4648090448&#45;&gt;4648078736* -->\n",
       "<g id=\"edge9\" class=\"edge\">\n",
       "<title>4648090448&#45;&gt;4648078736*</title>\n",
       "<path fill=\"none\" stroke=\"black\" d=\"M172.12,-36.99C180.9,-39.65 189.7,-42.5 198,-45.5 208.09,-49.14 218.82,-53.73 228.47,-58.12\"/>\n",
       "<polygon fill=\"black\" stroke=\"black\" points=\"226.9,-61.25 237.45,-62.31 229.86,-54.91 226.9,-61.25\"/>\n",
       "</g>\n",
       "<!-- 4648084816 -->\n",
       "<g id=\"node11\" class=\"node\">\n",
       "<title>4648084816</title>\n",
       "<polygon fill=\"none\" stroke=\"black\" points=\"324,-110.5 324,-146.5 542.25,-146.5 542.25,-110.5 324,-110.5\"/>\n",
       "<text xml:space=\"preserve\" text-anchor=\"middle\" x=\"350.38\" y=\"-123.7\" font-family=\"Times,serif\" font-size=\"14.00\">x1*w1</text>\n",
       "<polyline fill=\"none\" stroke=\"black\" points=\"376.75,-111 376.75,-146.5\"/>\n",
       "<text xml:space=\"preserve\" text-anchor=\"middle\" x=\"418.88\" y=\"-123.7\" font-family=\"Times,serif\" font-size=\"14.00\">data &#45;6.0000</text>\n",
       "<polyline fill=\"none\" stroke=\"black\" points=\"461,-111 461,-146.5\"/>\n",
       "<text xml:space=\"preserve\" text-anchor=\"middle\" x=\"501.62\" y=\"-123.7\" font-family=\"Times,serif\" font-size=\"14.00\">grad 0.5000</text>\n",
       "</g>\n",
       "<!-- 4648084816&#45;&gt;4648079248+ -->\n",
       "<g id=\"edge6\" class=\"edge\">\n",
       "<title>4648084816&#45;&gt;4648079248+</title>\n",
       "<path fill=\"none\" stroke=\"black\" d=\"M542.35,-110.69C551.12,-109.24 559.54,-107.86 567.19,-106.6\"/>\n",
       "<polygon fill=\"black\" stroke=\"black\" points=\"567.72,-110.06 577.02,-104.98 566.58,-103.15 567.72,-110.06\"/>\n",
       "</g>\n",
       "<!-- 4648084816*&#45;&gt;4648084816 -->\n",
       "<g id=\"edge4\" class=\"edge\">\n",
       "<title>4648084816*&#45;&gt;4648084816</title>\n",
       "<path fill=\"none\" stroke=\"black\" d=\"M288.21,-128.5C295.29,-128.5 303.43,-128.5 312.17,-128.5\"/>\n",
       "<polygon fill=\"black\" stroke=\"black\" points=\"312.01,-132 322.01,-128.5 312.01,-125 312.01,-132\"/>\n",
       "</g>\n",
       "<!-- 4648076176 -->\n",
       "<g id=\"node13\" class=\"node\">\n",
       "<title>4648076176</title>\n",
       "<polygon fill=\"none\" stroke=\"black\" points=\"1367.25,-54.5 1367.25,-90.5 1551,-90.5 1551,-54.5 1367.25,-54.5\"/>\n",
       "<text xml:space=\"preserve\" text-anchor=\"middle\" x=\"1378.62\" y=\"-67.7\" font-family=\"Times,serif\" font-size=\"14.00\">o</text>\n",
       "<polyline fill=\"none\" stroke=\"black\" points=\"1390,-55 1390,-90.5\"/>\n",
       "<text xml:space=\"preserve\" text-anchor=\"middle\" x=\"1429.88\" y=\"-67.7\" font-family=\"Times,serif\" font-size=\"14.00\">data 0.7071</text>\n",
       "<polyline fill=\"none\" stroke=\"black\" points=\"1469.75,-55 1469.75,-90.5\"/>\n",
       "<text xml:space=\"preserve\" text-anchor=\"middle\" x=\"1510.38\" y=\"-67.7\" font-family=\"Times,serif\" font-size=\"14.00\">grad 1.0000</text>\n",
       "</g>\n",
       "<!-- 4648076176tanh&#45;&gt;4648076176 -->\n",
       "<g id=\"edge5\" class=\"edge\">\n",
       "<title>4648076176tanh&#45;&gt;4648076176</title>\n",
       "<path fill=\"none\" stroke=\"black\" d=\"M1331.53,-72.5C1338.67,-72.5 1346.86,-72.5 1355.57,-72.5\"/>\n",
       "<polygon fill=\"black\" stroke=\"black\" points=\"1355.31,-76 1365.31,-72.5 1355.31,-69 1355.31,-76\"/>\n",
       "</g>\n",
       "<!-- 4648089552 -->\n",
       "<g id=\"node15\" class=\"node\">\n",
       "<title>4648089552</title>\n",
       "<polygon fill=\"none\" stroke=\"black\" points=\"708,-27.5 708,-63.5 891.75,-63.5 891.75,-27.5 708,-27.5\"/>\n",
       "<text xml:space=\"preserve\" text-anchor=\"middle\" x=\"719.38\" y=\"-40.7\" font-family=\"Times,serif\" font-size=\"14.00\">b</text>\n",
       "<polyline fill=\"none\" stroke=\"black\" points=\"730.75,-28 730.75,-63.5\"/>\n",
       "<text xml:space=\"preserve\" text-anchor=\"middle\" x=\"770.62\" y=\"-40.7\" font-family=\"Times,serif\" font-size=\"14.00\">data 6.8814</text>\n",
       "<polyline fill=\"none\" stroke=\"black\" points=\"810.5,-28 810.5,-63.5\"/>\n",
       "<text xml:space=\"preserve\" text-anchor=\"middle\" x=\"851.12\" y=\"-40.7\" font-family=\"Times,serif\" font-size=\"14.00\">grad 0.5000</text>\n",
       "</g>\n",
       "<!-- 4648089552&#45;&gt;4648090256+ -->\n",
       "<g id=\"edge12\" class=\"edge\">\n",
       "<title>4648089552&#45;&gt;4648090256+</title>\n",
       "<path fill=\"none\" stroke=\"black\" d=\"M892.11,-58.29C914.92,-61.49 938.12,-64.74 956.56,-67.32\"/>\n",
       "<polygon fill=\"black\" stroke=\"black\" points=\"956.04,-70.78 966.43,-68.71 957.02,-63.85 956.04,-70.78\"/>\n",
       "</g>\n",
       "</g>\n",
       "</svg>\n"
      ],
      "text/plain": [
       "<graphviz.graphs.Digraph at 0x114d86890>"
      ]
     },
     "execution_count": 134,
     "metadata": {},
     "output_type": "execute_result"
    }
   ],
   "source": [
    "draw_dot(o)"
   ]
  },
  {
   "cell_type": "markdown",
   "id": "900ee48e-897d-4e6c-a6cd-6ddbead05e16",
   "metadata": {},
   "source": [
    "## Automating Gradient Backpropagation\n",
    "\n",
    "To automate backpropagation the Value operators (eg `__add__()`, `__mul()__`) need to apply the grad assignment rules from above.\n",
    "\n",
    "These rules cannot be applied immediately in the opeator because at that point we are still building towards the root Value which is the start of the backpropagation, so instead we create a closure and save it in an attribute `_backward` so it can be called on later.\n",
    "\n",
    "To ensure that each node has its dependencies satisfied before invoking `_backward`, we can do a topological sort on the nodes. Then we can just iterate backwards over the sorted list. We can add a Value method (eg `backward()`) which does the following:\n",
    "\n",
    "* Perform topological sort starting at root\n",
    "* Iterate over the result, calling node._backward()\n",
    "\n",
    "By the way, the Value class is somewhat modeled after PyTorch which for example also implements a `backward()` method."
   ]
  },
  {
   "cell_type": "markdown",
   "id": "48170c3d-e865-4bdd-a033-279a58462c0e",
   "metadata": {},
   "source": [
    "Topological sort can be done using DFS:\n",
    "```python\n",
    "topo = []\n",
    "visited = set()\n",
    "\n",
    "def visit(v):\n",
    "    if v in visited:\n",
    "        return\n",
    "    for child in v._prev:\n",
    "        visit(child)\n",
    "    visited.add(v)\n",
    "    topo.insert(0, v)\n",
    "```\n",
    "\n",
    "With this implementation, calling `visit(root)` will sort the nodes with root at the beginning of the list, which is the correct order for backpropagation.\n",
    "\n",
    "Calling `o.backward()` on the above Value graph will perform the same grad assignment as the manual assignment above."
   ]
  },
  {
   "cell_type": "code",
   "execution_count": 133,
   "id": "f5aea38e-6fdc-4736-b636-0080c85ed81c",
   "metadata": {},
   "outputs": [],
   "source": [
    "o.backward()"
   ]
  },
  {
   "cell_type": "markdown",
   "id": "18bdcca3-6b74-4737-b472-8160e8dc5e42",
   "metadata": {},
   "source": [
    "## Additional Operators for Value\n",
    "\n",
    "Suppose we write `x1 * 5`, this is an error because 5 is not type Value. We can handle non-value types as follows:\n",
    "```python\n",
    "other = other if isinstance(other, Value) else Value(other)\n",
    "```"
   ]
  },
  {
   "cell_type": "code",
   "execution_count": 119,
   "id": "1278ed58-91e5-4dbc-8d8e-23da7565d497",
   "metadata": {},
   "outputs": [
    {
     "name": "stdout",
     "output_type": "stream",
     "text": [
      "Value(data=2.0)\n",
      "Value(data=10.0)\n",
      "Value(data=7.0)\n"
     ]
    }
   ],
   "source": [
    "print(x1)\n",
    "print(x1 * 5.0)\n",
    "print(x1 + 5.0)"
   ]
  },
  {
   "cell_type": "markdown",
   "id": "932a78b0-1e74-4f94-be6f-979511179bf1",
   "metadata": {},
   "source": [
    "Another case is `5 * x1`, in that case Python expects to use `int.__mul__(n: int)` and in this case n is a Value."
   ]
  },
  {
   "cell_type": "code",
   "execution_count": 117,
   "id": "de817e1f-97eb-4b98-8782-76763b234970",
   "metadata": {},
   "outputs": [
    {
     "name": "stdout",
     "output_type": "stream",
     "text": [
      "Value(data=10.0)\n",
      "Value(data=7.0)\n"
     ]
    }
   ],
   "source": [
    "print(5 * x1)\n",
    "print(5 + x1)"
   ]
  },
  {
   "cell_type": "markdown",
   "id": "2c98ebbe-80f9-4b29-9a26-8e8ca5766dff",
   "metadata": {},
   "source": [
    "Following are some definitions for $\\tanh x $:\n",
    "$$\n",
    "\\tanh x = \\frac{\\sinh x}{\\cosh x} = \\frac {e^x - e^{-x}} {e^x + e^{-x}}\n",
    "= \\frac{e^{2x} - 1} {e^{2x} + 1}\n",
    "$$\n",
    "\n",
    "If we want to implement the last definition we'll need Value to support `exp()` and `__pow__(n)` methods.\n",
    "\n",
    "The are added to the definition above. We can now calculate the same Nuron expression using the exponent definition."
   ]
  },
  {
   "cell_type": "code",
   "execution_count": 137,
   "id": "8d6355e3-e82a-4ec9-841e-61d778399ff8",
   "metadata": {},
   "outputs": [
    {
     "data": {
      "image/svg+xml": [
       "<?xml version=\"1.0\" encoding=\"UTF-8\" standalone=\"no\"?>\n",
       "<!DOCTYPE svg PUBLIC \"-//W3C//DTD SVG 1.1//EN\"\n",
       " \"http://www.w3.org/Graphics/SVG/1.1/DTD/svg11.dtd\">\n",
       "<!-- Generated by graphviz version 13.1.1 (20250719.2154)\n",
       " -->\n",
       "<!-- Pages: 1 -->\n",
       "<svg width=\"2811pt\" height=\"236pt\"\n",
       " viewBox=\"0.00 0.00 2811.00 236.00\" xmlns=\"http://www.w3.org/2000/svg\" xmlns:xlink=\"http://www.w3.org/1999/xlink\">\n",
       "<g id=\"graph0\" class=\"graph\" transform=\"scale(1 1) rotate(0) translate(4 232)\">\n",
       "<polygon fill=\"white\" stroke=\"none\" points=\"-4,4 -4,-232 2806.75,-232 2806.75,4 -4,4\"/>\n",
       "<!-- 4648000016 -->\n",
       "<g id=\"node1\" class=\"node\">\n",
       "<title>4648000016</title>\n",
       "<polygon fill=\"none\" stroke=\"black\" points=\"324,-55.5 324,-91.5 509.25,-91.5 509.25,-55.5 324,-55.5\"/>\n",
       "<text xml:space=\"preserve\" text-anchor=\"middle\" x=\"333.88\" y=\"-68.7\" font-family=\"Times,serif\" font-size=\"14.00\"> </text>\n",
       "<polyline fill=\"none\" stroke=\"black\" points=\"343.75,-56 343.75,-91.5\"/>\n",
       "<text xml:space=\"preserve\" text-anchor=\"middle\" x=\"385.88\" y=\"-68.7\" font-family=\"Times,serif\" font-size=\"14.00\">data &#45;6.0000</text>\n",
       "<polyline fill=\"none\" stroke=\"black\" points=\"428,-56 428,-91.5\"/>\n",
       "<text xml:space=\"preserve\" text-anchor=\"middle\" x=\"468.62\" y=\"-68.7\" font-family=\"Times,serif\" font-size=\"14.00\">grad 0.5000</text>\n",
       "</g>\n",
       "<!-- 4647996688+ -->\n",
       "<g id=\"node15\" class=\"node\">\n",
       "<title>4647996688+</title>\n",
       "<ellipse fill=\"none\" stroke=\"black\" cx=\"572.25\" cy=\"-100.5\" rx=\"27\" ry=\"18\"/>\n",
       "<text xml:space=\"preserve\" text-anchor=\"middle\" x=\"572.25\" y=\"-95.45\" font-family=\"Times,serif\" font-size=\"14.00\">+</text>\n",
       "</g>\n",
       "<!-- 4648000016&#45;&gt;4647996688+ -->\n",
       "<g id=\"edge26\" class=\"edge\">\n",
       "<title>4648000016&#45;&gt;4647996688+</title>\n",
       "<path fill=\"none\" stroke=\"black\" d=\"M509.65,-89.67C518.39,-91.21 526.86,-92.7 534.58,-94.05\"/>\n",
       "<polygon fill=\"black\" stroke=\"black\" points=\"533.7,-97.45 544.16,-95.74 534.91,-90.56 533.7,-97.45\"/>\n",
       "</g>\n",
       "<!-- 4648000016* -->\n",
       "<g id=\"node2\" class=\"node\">\n",
       "<title>4648000016*</title>\n",
       "<ellipse fill=\"none\" stroke=\"black\" cx=\"261\" cy=\"-73.5\" rx=\"27\" ry=\"18\"/>\n",
       "<text xml:space=\"preserve\" text-anchor=\"middle\" x=\"261\" y=\"-68.45\" font-family=\"Times,serif\" font-size=\"14.00\">*</text>\n",
       "</g>\n",
       "<!-- 4648000016*&#45;&gt;4648000016 -->\n",
       "<g id=\"edge1\" class=\"edge\">\n",
       "<title>4648000016*&#45;&gt;4648000016</title>\n",
       "<path fill=\"none\" stroke=\"black\" d=\"M288.41,-73.5C295.45,-73.5 303.5,-73.5 312.05,-73.5\"/>\n",
       "<polygon fill=\"black\" stroke=\"black\" points=\"312.04,-77 322.04,-73.5 312.04,-70 312.04,-77\"/>\n",
       "</g>\n",
       "<!-- 4648007248 -->\n",
       "<g id=\"node3\" class=\"node\">\n",
       "<title>4648007248</title>\n",
       "<polygon fill=\"none\" stroke=\"black\" points=\"2619,-135.5 2619,-171.5 2802.75,-171.5 2802.75,-135.5 2619,-135.5\"/>\n",
       "<text xml:space=\"preserve\" text-anchor=\"middle\" x=\"2630.38\" y=\"-148.7\" font-family=\"Times,serif\" font-size=\"14.00\">o</text>\n",
       "<polyline fill=\"none\" stroke=\"black\" points=\"2641.75,-136 2641.75,-171.5\"/>\n",
       "<text xml:space=\"preserve\" text-anchor=\"middle\" x=\"2681.62\" y=\"-148.7\" font-family=\"Times,serif\" font-size=\"14.00\">data 0.7071</text>\n",
       "<polyline fill=\"none\" stroke=\"black\" points=\"2721.5,-136 2721.5,-171.5\"/>\n",
       "<text xml:space=\"preserve\" text-anchor=\"middle\" x=\"2762.12\" y=\"-148.7\" font-family=\"Times,serif\" font-size=\"14.00\">grad 1.0000</text>\n",
       "</g>\n",
       "<!-- 4648007248* -->\n",
       "<g id=\"node4\" class=\"node\">\n",
       "<title>4648007248*</title>\n",
       "<ellipse fill=\"none\" stroke=\"black\" cx=\"2556\" cy=\"-153.5\" rx=\"27\" ry=\"18\"/>\n",
       "<text xml:space=\"preserve\" text-anchor=\"middle\" x=\"2556\" y=\"-148.45\" font-family=\"Times,serif\" font-size=\"14.00\">*</text>\n",
       "</g>\n",
       "<!-- 4648007248*&#45;&gt;4648007248 -->\n",
       "<g id=\"edge2\" class=\"edge\">\n",
       "<title>4648007248*&#45;&gt;4648007248</title>\n",
       "<path fill=\"none\" stroke=\"black\" d=\"M2583.28,-153.5C2590.42,-153.5 2598.61,-153.5 2607.32,-153.5\"/>\n",
       "<polygon fill=\"black\" stroke=\"black\" points=\"2607.06,-157 2617.06,-153.5 2607.06,-150 2607.06,-157\"/>\n",
       "</g>\n",
       "<!-- 4648006736 -->\n",
       "<g id=\"node5\" class=\"node\">\n",
       "<title>4648006736</title>\n",
       "<polygon fill=\"none\" stroke=\"black\" points=\"1.5,-55.5 1.5,-91.5 196.5,-91.5 196.5,-55.5 1.5,-55.5\"/>\n",
       "<text xml:space=\"preserve\" text-anchor=\"middle\" x=\"16.25\" y=\"-68.7\" font-family=\"Times,serif\" font-size=\"14.00\">x1</text>\n",
       "<polyline fill=\"none\" stroke=\"black\" points=\"31,-56 31,-91.5\"/>\n",
       "<text xml:space=\"preserve\" text-anchor=\"middle\" x=\"70.88\" y=\"-68.7\" font-family=\"Times,serif\" font-size=\"14.00\">data 2.0000</text>\n",
       "<polyline fill=\"none\" stroke=\"black\" points=\"110.75,-56 110.75,-91.5\"/>\n",
       "<text xml:space=\"preserve\" text-anchor=\"middle\" x=\"153.62\" y=\"-68.7\" font-family=\"Times,serif\" font-size=\"14.00\">grad &#45;1.5000</text>\n",
       "</g>\n",
       "<!-- 4648006736&#45;&gt;4648000016* -->\n",
       "<g id=\"edge25\" class=\"edge\">\n",
       "<title>4648006736&#45;&gt;4648000016*</title>\n",
       "<path fill=\"none\" stroke=\"black\" d=\"M196.76,-73.5C205.77,-73.5 214.47,-73.5 222.4,-73.5\"/>\n",
       "<polygon fill=\"black\" stroke=\"black\" points=\"222.25,-77 232.25,-73.5 222.25,-70 222.25,-77\"/>\n",
       "</g>\n",
       "<!-- 4648003536 -->\n",
       "<g id=\"node6\" class=\"node\">\n",
       "<title>4648003536</title>\n",
       "<polygon fill=\"none\" stroke=\"black\" points=\"1874.25,-108.5 1874.25,-144.5 2059.5,-144.5 2059.5,-108.5 1874.25,-108.5\"/>\n",
       "<text xml:space=\"preserve\" text-anchor=\"middle\" x=\"1884.12\" y=\"-121.7\" font-family=\"Times,serif\" font-size=\"14.00\"> </text>\n",
       "<polyline fill=\"none\" stroke=\"black\" points=\"1894,-109 1894,-144.5\"/>\n",
       "<text xml:space=\"preserve\" text-anchor=\"middle\" x=\"1933.88\" y=\"-121.7\" font-family=\"Times,serif\" font-size=\"14.00\">data 6.8284</text>\n",
       "<polyline fill=\"none\" stroke=\"black\" points=\"1973.75,-109 1973.75,-144.5\"/>\n",
       "<text xml:space=\"preserve\" text-anchor=\"middle\" x=\"2016.62\" y=\"-121.7\" font-family=\"Times,serif\" font-size=\"14.00\">grad &#45;0.1036</text>\n",
       "</g>\n",
       "<!-- 4634574096**&#45;1 -->\n",
       "<g id=\"node27\" class=\"node\">\n",
       "<title>4634574096**&#45;1</title>\n",
       "<ellipse fill=\"none\" stroke=\"black\" cx=\"2185.88\" cy=\"-126.5\" rx=\"27.81\" ry=\"18\"/>\n",
       "<text xml:space=\"preserve\" text-anchor=\"middle\" x=\"2185.88\" y=\"-121.45\" font-family=\"Times,serif\" font-size=\"14.00\">**&#45;1</text>\n",
       "</g>\n",
       "<!-- 4648003536&#45;&gt;4634574096**&#45;1 -->\n",
       "<g id=\"edge18\" class=\"edge\">\n",
       "<title>4648003536&#45;&gt;4634574096**&#45;1</title>\n",
       "<path fill=\"none\" stroke=\"black\" d=\"M2059.9,-126.5C2090.14,-126.5 2122.13,-126.5 2146.17,-126.5\"/>\n",
       "<polygon fill=\"black\" stroke=\"black\" points=\"2146.12,-130 2156.12,-126.5 2146.12,-123 2146.12,-130\"/>\n",
       "</g>\n",
       "<!-- 4648003536+ -->\n",
       "<g id=\"node7\" class=\"node\">\n",
       "<title>4648003536+</title>\n",
       "<ellipse fill=\"none\" stroke=\"black\" cx=\"1811.25\" cy=\"-126.5\" rx=\"27\" ry=\"18\"/>\n",
       "<text xml:space=\"preserve\" text-anchor=\"middle\" x=\"1811.25\" y=\"-121.45\" font-family=\"Times,serif\" font-size=\"14.00\">+</text>\n",
       "</g>\n",
       "<!-- 4648003536+&#45;&gt;4648003536 -->\n",
       "<g id=\"edge3\" class=\"edge\">\n",
       "<title>4648003536+&#45;&gt;4648003536</title>\n",
       "<path fill=\"none\" stroke=\"black\" d=\"M1838.66,-126.5C1845.7,-126.5 1853.75,-126.5 1862.3,-126.5\"/>\n",
       "<polygon fill=\"black\" stroke=\"black\" points=\"1862.29,-130 1872.29,-126.5 1862.29,-123 1862.29,-130\"/>\n",
       "</g>\n",
       "<!-- 4647997584 -->\n",
       "<g id=\"node8\" class=\"node\">\n",
       "<title>4647997584</title>\n",
       "<polygon fill=\"none\" stroke=\"black\" points=\"946.5,-109.5 946.5,-145.5 1130.25,-145.5 1130.25,-109.5 946.5,-109.5\"/>\n",
       "<text xml:space=\"preserve\" text-anchor=\"middle\" x=\"957.88\" y=\"-122.7\" font-family=\"Times,serif\" font-size=\"14.00\">n</text>\n",
       "<polyline fill=\"none\" stroke=\"black\" points=\"969.25,-110 969.25,-145.5\"/>\n",
       "<text xml:space=\"preserve\" text-anchor=\"middle\" x=\"1009.12\" y=\"-122.7\" font-family=\"Times,serif\" font-size=\"14.00\">data 0.8814</text>\n",
       "<polyline fill=\"none\" stroke=\"black\" points=\"1049,-110 1049,-145.5\"/>\n",
       "<text xml:space=\"preserve\" text-anchor=\"middle\" x=\"1089.62\" y=\"-122.7\" font-family=\"Times,serif\" font-size=\"14.00\">grad 0.5000</text>\n",
       "</g>\n",
       "<!-- 4648004496* -->\n",
       "<g id=\"node17\" class=\"node\">\n",
       "<title>4648004496*</title>\n",
       "<ellipse fill=\"none\" stroke=\"black\" cx=\"1193.25\" cy=\"-154.5\" rx=\"27\" ry=\"18\"/>\n",
       "<text xml:space=\"preserve\" text-anchor=\"middle\" x=\"1193.25\" y=\"-149.45\" font-family=\"Times,serif\" font-size=\"14.00\">*</text>\n",
       "</g>\n",
       "<!-- 4647997584&#45;&gt;4648004496* -->\n",
       "<g id=\"edge11\" class=\"edge\">\n",
       "<title>4647997584&#45;&gt;4648004496*</title>\n",
       "<path fill=\"none\" stroke=\"black\" d=\"M1130.51,-143.6C1139.34,-145.16 1147.9,-146.67 1155.69,-148.04\"/>\n",
       "<polygon fill=\"black\" stroke=\"black\" points=\"1154.92,-151.46 1165.38,-149.75 1156.14,-144.57 1154.92,-151.46\"/>\n",
       "</g>\n",
       "<!-- 4647997584+ -->\n",
       "<g id=\"node9\" class=\"node\">\n",
       "<title>4647997584+</title>\n",
       "<ellipse fill=\"none\" stroke=\"black\" cx=\"883.5\" cy=\"-127.5\" rx=\"27\" ry=\"18\"/>\n",
       "<text xml:space=\"preserve\" text-anchor=\"middle\" x=\"883.5\" y=\"-122.45\" font-family=\"Times,serif\" font-size=\"14.00\">+</text>\n",
       "</g>\n",
       "<!-- 4647997584+&#45;&gt;4647997584 -->\n",
       "<g id=\"edge4\" class=\"edge\">\n",
       "<title>4647997584+&#45;&gt;4647997584</title>\n",
       "<path fill=\"none\" stroke=\"black\" d=\"M910.78,-127.5C917.92,-127.5 926.11,-127.5 934.82,-127.5\"/>\n",
       "<polygon fill=\"black\" stroke=\"black\" points=\"934.56,-131 944.56,-127.5 934.56,-124 934.56,-131\"/>\n",
       "</g>\n",
       "<!-- 4647995536 -->\n",
       "<g id=\"node10\" class=\"node\">\n",
       "<title>4647995536</title>\n",
       "<polygon fill=\"none\" stroke=\"black\" points=\"1563,-81.5 1563,-117.5 1748.25,-117.5 1748.25,-81.5 1563,-81.5\"/>\n",
       "<text xml:space=\"preserve\" text-anchor=\"middle\" x=\"1572.88\" y=\"-94.7\" font-family=\"Times,serif\" font-size=\"14.00\"> </text>\n",
       "<polyline fill=\"none\" stroke=\"black\" points=\"1582.75,-82 1582.75,-117.5\"/>\n",
       "<text xml:space=\"preserve\" text-anchor=\"middle\" x=\"1622.62\" y=\"-94.7\" font-family=\"Times,serif\" font-size=\"14.00\">data 1.0000</text>\n",
       "<polyline fill=\"none\" stroke=\"black\" points=\"1662.5,-82 1662.5,-117.5\"/>\n",
       "<text xml:space=\"preserve\" text-anchor=\"middle\" x=\"1705.38\" y=\"-94.7\" font-family=\"Times,serif\" font-size=\"14.00\">grad &#45;0.1036</text>\n",
       "</g>\n",
       "<!-- 4647995536&#45;&gt;4648003536+ -->\n",
       "<g id=\"edge12\" class=\"edge\">\n",
       "<title>4647995536&#45;&gt;4648003536+</title>\n",
       "<path fill=\"none\" stroke=\"black\" d=\"M1748.65,-115.67C1757.39,-117.21 1765.86,-118.7 1773.58,-120.05\"/>\n",
       "<polygon fill=\"black\" stroke=\"black\" points=\"1772.7,-123.45 1783.16,-121.74 1773.91,-116.56 1772.7,-123.45\"/>\n",
       "</g>\n",
       "<!-- 4648001744 -->\n",
       "<g id=\"node11\" class=\"node\">\n",
       "<title>4648001744</title>\n",
       "<polygon fill=\"none\" stroke=\"black\" points=\"948,-164.5 948,-200.5 1128.75,-200.5 1128.75,-164.5 948,-164.5\"/>\n",
       "<text xml:space=\"preserve\" text-anchor=\"middle\" x=\"957.88\" y=\"-177.7\" font-family=\"Times,serif\" font-size=\"14.00\"> </text>\n",
       "<polyline fill=\"none\" stroke=\"black\" points=\"967.75,-165 967.75,-200.5\"/>\n",
       "<text xml:space=\"preserve\" text-anchor=\"middle\" x=\"1007.62\" y=\"-177.7\" font-family=\"Times,serif\" font-size=\"14.00\">data 2.0000</text>\n",
       "<polyline fill=\"none\" stroke=\"black\" points=\"1047.5,-165 1047.5,-200.5\"/>\n",
       "<text xml:space=\"preserve\" text-anchor=\"middle\" x=\"1088.12\" y=\"-177.7\" font-family=\"Times,serif\" font-size=\"14.00\">grad 0.2203</text>\n",
       "</g>\n",
       "<!-- 4648001744&#45;&gt;4648004496* -->\n",
       "<g id=\"edge24\" class=\"edge\">\n",
       "<title>4648001744&#45;&gt;4648004496*</title>\n",
       "<path fill=\"none\" stroke=\"black\" d=\"M1129.19,-166.05C1138.44,-164.35 1147.43,-162.71 1155.58,-161.22\"/>\n",
       "<polygon fill=\"black\" stroke=\"black\" points=\"1156.17,-164.67 1165.37,-159.42 1154.91,-157.78 1156.17,-164.67\"/>\n",
       "</g>\n",
       "<!-- 4628662544 -->\n",
       "<g id=\"node12\" class=\"node\">\n",
       "<title>4628662544</title>\n",
       "<polygon fill=\"none\" stroke=\"black\" points=\"1565.25,-136.5 1565.25,-172.5 1746,-172.5 1746,-136.5 1565.25,-136.5\"/>\n",
       "<text xml:space=\"preserve\" text-anchor=\"middle\" x=\"1575.12\" y=\"-149.7\" font-family=\"Times,serif\" font-size=\"14.00\"> </text>\n",
       "<polyline fill=\"none\" stroke=\"black\" points=\"1585,-137 1585,-172.5\"/>\n",
       "<text xml:space=\"preserve\" text-anchor=\"middle\" x=\"1624.88\" y=\"-149.7\" font-family=\"Times,serif\" font-size=\"14.00\">data 5.8284</text>\n",
       "<polyline fill=\"none\" stroke=\"black\" points=\"1664.75,-137 1664.75,-172.5\"/>\n",
       "<text xml:space=\"preserve\" text-anchor=\"middle\" x=\"1705.38\" y=\"-149.7\" font-family=\"Times,serif\" font-size=\"14.00\">grad 0.0429</text>\n",
       "</g>\n",
       "<!-- 4628662544&#45;&gt;4648003536+ -->\n",
       "<g id=\"edge22\" class=\"edge\">\n",
       "<title>4628662544&#45;&gt;4648003536+</title>\n",
       "<path fill=\"none\" stroke=\"black\" d=\"M1746.43,-138.13C1755.98,-136.39 1765.26,-134.7 1773.64,-133.17\"/>\n",
       "<polygon fill=\"black\" stroke=\"black\" points=\"1774.14,-136.64 1783.35,-131.4 1772.89,-129.75 1774.14,-136.64\"/>\n",
       "</g>\n",
       "<!-- 4648005520+ -->\n",
       "<g id=\"node25\" class=\"node\">\n",
       "<title>4648005520+</title>\n",
       "<ellipse fill=\"none\" stroke=\"black\" cx=\"1811.25\" cy=\"-181.5\" rx=\"27\" ry=\"18\"/>\n",
       "<text xml:space=\"preserve\" text-anchor=\"middle\" x=\"1811.25\" y=\"-176.45\" font-family=\"Times,serif\" font-size=\"14.00\">+</text>\n",
       "</g>\n",
       "<!-- 4628662544&#45;&gt;4648005520+ -->\n",
       "<g id=\"edge28\" class=\"edge\">\n",
       "<title>4628662544&#45;&gt;4648005520+</title>\n",
       "<path fill=\"none\" stroke=\"black\" d=\"M1746.43,-170.28C1755.98,-171.96 1765.26,-173.59 1773.64,-175.07\"/>\n",
       "<polygon fill=\"black\" stroke=\"black\" points=\"1772.89,-178.49 1783.35,-176.77 1774.11,-171.59 1772.89,-178.49\"/>\n",
       "</g>\n",
       "<!-- 4628662544exp -->\n",
       "<g id=\"node13\" class=\"node\">\n",
       "<title>4628662544exp</title>\n",
       "<ellipse fill=\"none\" stroke=\"black\" cx=\"1500\" cy=\"-154.5\" rx=\"27\" ry=\"18\"/>\n",
       "<text xml:space=\"preserve\" text-anchor=\"middle\" x=\"1500\" y=\"-149.45\" font-family=\"Times,serif\" font-size=\"14.00\">exp</text>\n",
       "</g>\n",
       "<!-- 4628662544exp&#45;&gt;4628662544 -->\n",
       "<g id=\"edge5\" class=\"edge\">\n",
       "<title>4628662544exp&#45;&gt;4628662544</title>\n",
       "<path fill=\"none\" stroke=\"black\" d=\"M1527.41,-154.5C1535.12,-154.5 1544.04,-154.5 1553.51,-154.5\"/>\n",
       "<polygon fill=\"black\" stroke=\"black\" points=\"1553.32,-158 1563.32,-154.5 1553.32,-151 1553.32,-158\"/>\n",
       "</g>\n",
       "<!-- 4647996688 -->\n",
       "<g id=\"node14\" class=\"node\">\n",
       "<title>4647996688</title>\n",
       "<polygon fill=\"none\" stroke=\"black\" points=\"635.25,-82.5 635.25,-118.5 820.5,-118.5 820.5,-82.5 635.25,-82.5\"/>\n",
       "<text xml:space=\"preserve\" text-anchor=\"middle\" x=\"645.12\" y=\"-95.7\" font-family=\"Times,serif\" font-size=\"14.00\"> </text>\n",
       "<polyline fill=\"none\" stroke=\"black\" points=\"655,-83 655,-118.5\"/>\n",
       "<text xml:space=\"preserve\" text-anchor=\"middle\" x=\"697.12\" y=\"-95.7\" font-family=\"Times,serif\" font-size=\"14.00\">data &#45;6.0000</text>\n",
       "<polyline fill=\"none\" stroke=\"black\" points=\"739.25,-83 739.25,-118.5\"/>\n",
       "<text xml:space=\"preserve\" text-anchor=\"middle\" x=\"779.88\" y=\"-95.7\" font-family=\"Times,serif\" font-size=\"14.00\">grad 0.5000</text>\n",
       "</g>\n",
       "<!-- 4647996688&#45;&gt;4647997584+ -->\n",
       "<g id=\"edge19\" class=\"edge\">\n",
       "<title>4647996688&#45;&gt;4647997584+</title>\n",
       "<path fill=\"none\" stroke=\"black\" d=\"M820.9,-116.67C829.64,-118.21 838.11,-119.7 845.83,-121.05\"/>\n",
       "<polygon fill=\"black\" stroke=\"black\" points=\"844.95,-124.45 855.41,-122.74 846.16,-117.56 844.95,-124.45\"/>\n",
       "</g>\n",
       "<!-- 4647996688+&#45;&gt;4647996688 -->\n",
       "<g id=\"edge6\" class=\"edge\">\n",
       "<title>4647996688+&#45;&gt;4647996688</title>\n",
       "<path fill=\"none\" stroke=\"black\" d=\"M599.66,-100.5C606.7,-100.5 614.75,-100.5 623.3,-100.5\"/>\n",
       "<polygon fill=\"black\" stroke=\"black\" points=\"623.29,-104 633.29,-100.5 623.29,-97 623.29,-104\"/>\n",
       "</g>\n",
       "<!-- 4648004496 -->\n",
       "<g id=\"node16\" class=\"node\">\n",
       "<title>4648004496</title>\n",
       "<polygon fill=\"none\" stroke=\"black\" points=\"1256.25,-136.5 1256.25,-172.5 1437,-172.5 1437,-136.5 1256.25,-136.5\"/>\n",
       "<text xml:space=\"preserve\" text-anchor=\"middle\" x=\"1266.12\" y=\"-149.7\" font-family=\"Times,serif\" font-size=\"14.00\"> </text>\n",
       "<polyline fill=\"none\" stroke=\"black\" points=\"1276,-137 1276,-172.5\"/>\n",
       "<text xml:space=\"preserve\" text-anchor=\"middle\" x=\"1315.88\" y=\"-149.7\" font-family=\"Times,serif\" font-size=\"14.00\">data 1.7627</text>\n",
       "<polyline fill=\"none\" stroke=\"black\" points=\"1355.75,-137 1355.75,-172.5\"/>\n",
       "<text xml:space=\"preserve\" text-anchor=\"middle\" x=\"1396.38\" y=\"-149.7\" font-family=\"Times,serif\" font-size=\"14.00\">grad 0.2500</text>\n",
       "</g>\n",
       "<!-- 4648004496&#45;&gt;4628662544exp -->\n",
       "<g id=\"edge21\" class=\"edge\">\n",
       "<title>4648004496&#45;&gt;4628662544exp</title>\n",
       "<path fill=\"none\" stroke=\"black\" d=\"M1437.43,-154.5C1445.77,-154.5 1453.87,-154.5 1461.31,-154.5\"/>\n",
       "<polygon fill=\"black\" stroke=\"black\" points=\"1461.25,-158 1471.25,-154.5 1461.25,-151 1461.25,-158\"/>\n",
       "</g>\n",
       "<!-- 4648004496*&#45;&gt;4648004496 -->\n",
       "<g id=\"edge7\" class=\"edge\">\n",
       "<title>4648004496*&#45;&gt;4648004496</title>\n",
       "<path fill=\"none\" stroke=\"black\" d=\"M1220.62,-154.5C1227.76,-154.5 1235.95,-154.5 1244.64,-154.5\"/>\n",
       "<polygon fill=\"black\" stroke=\"black\" points=\"1244.36,-158 1254.36,-154.5 1244.36,-151 1244.36,-158\"/>\n",
       "</g>\n",
       "<!-- 4648005904 -->\n",
       "<g id=\"node18\" class=\"node\">\n",
       "<title>4648005904</title>\n",
       "<polygon fill=\"none\" stroke=\"black\" points=\"636,-137.5 636,-173.5 819.75,-173.5 819.75,-137.5 636,-137.5\"/>\n",
       "<text xml:space=\"preserve\" text-anchor=\"middle\" x=\"647.38\" y=\"-150.7\" font-family=\"Times,serif\" font-size=\"14.00\">b</text>\n",
       "<polyline fill=\"none\" stroke=\"black\" points=\"658.75,-138 658.75,-173.5\"/>\n",
       "<text xml:space=\"preserve\" text-anchor=\"middle\" x=\"698.62\" y=\"-150.7\" font-family=\"Times,serif\" font-size=\"14.00\">data 6.8814</text>\n",
       "<polyline fill=\"none\" stroke=\"black\" points=\"738.5,-138 738.5,-173.5\"/>\n",
       "<text xml:space=\"preserve\" text-anchor=\"middle\" x=\"779.12\" y=\"-150.7\" font-family=\"Times,serif\" font-size=\"14.00\">grad 0.5000</text>\n",
       "</g>\n",
       "<!-- 4648005904&#45;&gt;4647997584+ -->\n",
       "<g id=\"edge20\" class=\"edge\">\n",
       "<title>4648005904&#45;&gt;4647997584+</title>\n",
       "<path fill=\"none\" stroke=\"black\" d=\"M820.01,-138.89C829.13,-137.23 837.97,-135.62 845.99,-134.15\"/>\n",
       "<polygon fill=\"black\" stroke=\"black\" points=\"846.39,-137.64 855.6,-132.4 845.13,-130.75 846.39,-137.64\"/>\n",
       "</g>\n",
       "<!-- 4648009552 -->\n",
       "<g id=\"node19\" class=\"node\">\n",
       "<title>4648009552</title>\n",
       "<polygon fill=\"none\" stroke=\"black\" points=\"326.25,-110.5 326.25,-146.5 507,-146.5 507,-110.5 326.25,-110.5\"/>\n",
       "<text xml:space=\"preserve\" text-anchor=\"middle\" x=\"336.12\" y=\"-123.7\" font-family=\"Times,serif\" font-size=\"14.00\"> </text>\n",
       "<polyline fill=\"none\" stroke=\"black\" points=\"346,-111 346,-146.5\"/>\n",
       "<text xml:space=\"preserve\" text-anchor=\"middle\" x=\"385.88\" y=\"-123.7\" font-family=\"Times,serif\" font-size=\"14.00\">data 0.0000</text>\n",
       "<polyline fill=\"none\" stroke=\"black\" points=\"425.75,-111 425.75,-146.5\"/>\n",
       "<text xml:space=\"preserve\" text-anchor=\"middle\" x=\"466.38\" y=\"-123.7\" font-family=\"Times,serif\" font-size=\"14.00\">grad 0.5000</text>\n",
       "</g>\n",
       "<!-- 4648009552&#45;&gt;4647996688+ -->\n",
       "<g id=\"edge23\" class=\"edge\">\n",
       "<title>4648009552&#45;&gt;4647996688+</title>\n",
       "<path fill=\"none\" stroke=\"black\" d=\"M507.43,-112.13C516.98,-110.39 526.26,-108.7 534.64,-107.17\"/>\n",
       "<polygon fill=\"black\" stroke=\"black\" points=\"535.14,-110.64 544.35,-105.4 533.89,-103.75 535.14,-110.64\"/>\n",
       "</g>\n",
       "<!-- 4648009552* -->\n",
       "<g id=\"node20\" class=\"node\">\n",
       "<title>4648009552*</title>\n",
       "<ellipse fill=\"none\" stroke=\"black\" cx=\"261\" cy=\"-128.5\" rx=\"27\" ry=\"18\"/>\n",
       "<text xml:space=\"preserve\" text-anchor=\"middle\" x=\"261\" y=\"-123.45\" font-family=\"Times,serif\" font-size=\"14.00\">*</text>\n",
       "</g>\n",
       "<!-- 4648009552*&#45;&gt;4648009552 -->\n",
       "<g id=\"edge8\" class=\"edge\">\n",
       "<title>4648009552*&#45;&gt;4648009552</title>\n",
       "<path fill=\"none\" stroke=\"black\" d=\"M288.41,-128.5C296.12,-128.5 305.04,-128.5 314.51,-128.5\"/>\n",
       "<polygon fill=\"black\" stroke=\"black\" points=\"314.32,-132 324.32,-128.5 314.32,-125 314.32,-132\"/>\n",
       "</g>\n",
       "<!-- 4647998288 -->\n",
       "<g id=\"node21\" class=\"node\">\n",
       "<title>4647998288</title>\n",
       "<polygon fill=\"none\" stroke=\"black\" points=\"2.25,-165.5 2.25,-201.5 195.75,-201.5 195.75,-165.5 2.25,-165.5\"/>\n",
       "<text xml:space=\"preserve\" text-anchor=\"middle\" x=\"18.5\" y=\"-178.7\" font-family=\"Times,serif\" font-size=\"14.00\">w2</text>\n",
       "<polyline fill=\"none\" stroke=\"black\" points=\"34.75,-166 34.75,-201.5\"/>\n",
       "<text xml:space=\"preserve\" text-anchor=\"middle\" x=\"74.62\" y=\"-178.7\" font-family=\"Times,serif\" font-size=\"14.00\">data 1.0000</text>\n",
       "<polyline fill=\"none\" stroke=\"black\" points=\"114.5,-166 114.5,-201.5\"/>\n",
       "<text xml:space=\"preserve\" text-anchor=\"middle\" x=\"155.12\" y=\"-178.7\" font-family=\"Times,serif\" font-size=\"14.00\">grad 0.0000</text>\n",
       "</g>\n",
       "<!-- 4647998288&#45;&gt;4648009552* -->\n",
       "<g id=\"edge27\" class=\"edge\">\n",
       "<title>4647998288&#45;&gt;4648009552*</title>\n",
       "<path fill=\"none\" stroke=\"black\" d=\"M172.12,-165.01C180.9,-162.35 189.7,-159.5 198,-156.5 208.09,-152.86 218.82,-148.27 228.47,-143.88\"/>\n",
       "<polygon fill=\"black\" stroke=\"black\" points=\"229.86,-147.09 237.45,-139.69 226.9,-140.75 229.86,-147.09\"/>\n",
       "</g>\n",
       "<!-- 4638270288 -->\n",
       "<g id=\"node22\" class=\"node\">\n",
       "<title>4638270288</title>\n",
       "<polygon fill=\"none\" stroke=\"black\" points=\"3.75,-110.5 3.75,-146.5 194.25,-146.5 194.25,-110.5 3.75,-110.5\"/>\n",
       "<text xml:space=\"preserve\" text-anchor=\"middle\" x=\"18.5\" y=\"-123.7\" font-family=\"Times,serif\" font-size=\"14.00\">x2</text>\n",
       "<polyline fill=\"none\" stroke=\"black\" points=\"33.25,-111 33.25,-146.5\"/>\n",
       "<text xml:space=\"preserve\" text-anchor=\"middle\" x=\"73.12\" y=\"-123.7\" font-family=\"Times,serif\" font-size=\"14.00\">data 0.0000</text>\n",
       "<polyline fill=\"none\" stroke=\"black\" points=\"113,-111 113,-146.5\"/>\n",
       "<text xml:space=\"preserve\" text-anchor=\"middle\" x=\"153.62\" y=\"-123.7\" font-family=\"Times,serif\" font-size=\"14.00\">grad 0.5000</text>\n",
       "</g>\n",
       "<!-- 4638270288&#45;&gt;4648009552* -->\n",
       "<g id=\"edge14\" class=\"edge\">\n",
       "<title>4638270288&#45;&gt;4648009552*</title>\n",
       "<path fill=\"none\" stroke=\"black\" d=\"M194.46,-128.5C204.21,-128.5 213.66,-128.5 222.21,-128.5\"/>\n",
       "<polygon fill=\"black\" stroke=\"black\" points=\"222.12,-132 232.12,-128.5 222.12,-125 222.12,-132\"/>\n",
       "</g>\n",
       "<!-- 4648003920 -->\n",
       "<g id=\"node23\" class=\"node\">\n",
       "<title>4648003920</title>\n",
       "<polygon fill=\"none\" stroke=\"black\" points=\"1563,-191.5 1563,-227.5 1748.25,-227.5 1748.25,-191.5 1563,-191.5\"/>\n",
       "<text xml:space=\"preserve\" text-anchor=\"middle\" x=\"1572.88\" y=\"-204.7\" font-family=\"Times,serif\" font-size=\"14.00\"> </text>\n",
       "<polyline fill=\"none\" stroke=\"black\" points=\"1582.75,-192 1582.75,-227.5\"/>\n",
       "<text xml:space=\"preserve\" text-anchor=\"middle\" x=\"1624.88\" y=\"-204.7\" font-family=\"Times,serif\" font-size=\"14.00\">data &#45;1.0000</text>\n",
       "<polyline fill=\"none\" stroke=\"black\" points=\"1667,-192 1667,-227.5\"/>\n",
       "<text xml:space=\"preserve\" text-anchor=\"middle\" x=\"1707.62\" y=\"-204.7\" font-family=\"Times,serif\" font-size=\"14.00\">grad 0.1464</text>\n",
       "</g>\n",
       "<!-- 4648003920&#45;&gt;4648005520+ -->\n",
       "<g id=\"edge16\" class=\"edge\">\n",
       "<title>4648003920&#45;&gt;4648005520+</title>\n",
       "<path fill=\"none\" stroke=\"black\" d=\"M1748.65,-192.73C1757.39,-191.13 1765.86,-189.59 1773.58,-188.18\"/>\n",
       "<polygon fill=\"black\" stroke=\"black\" points=\"1773.95,-191.67 1783.16,-186.44 1772.69,-184.79 1773.95,-191.67\"/>\n",
       "</g>\n",
       "<!-- 4648005520 -->\n",
       "<g id=\"node24\" class=\"node\">\n",
       "<title>4648005520</title>\n",
       "<polygon fill=\"none\" stroke=\"black\" points=\"2095.5,-163.5 2095.5,-199.5 2276.25,-199.5 2276.25,-163.5 2095.5,-163.5\"/>\n",
       "<text xml:space=\"preserve\" text-anchor=\"middle\" x=\"2105.38\" y=\"-176.7\" font-family=\"Times,serif\" font-size=\"14.00\"> </text>\n",
       "<polyline fill=\"none\" stroke=\"black\" points=\"2115.25,-164 2115.25,-199.5\"/>\n",
       "<text xml:space=\"preserve\" text-anchor=\"middle\" x=\"2155.12\" y=\"-176.7\" font-family=\"Times,serif\" font-size=\"14.00\">data 4.8284</text>\n",
       "<polyline fill=\"none\" stroke=\"black\" points=\"2195,-164 2195,-199.5\"/>\n",
       "<text xml:space=\"preserve\" text-anchor=\"middle\" x=\"2235.62\" y=\"-176.7\" font-family=\"Times,serif\" font-size=\"14.00\">grad 0.1464</text>\n",
       "</g>\n",
       "<!-- 4648005520&#45;&gt;4648007248* -->\n",
       "<g id=\"edge17\" class=\"edge\">\n",
       "<title>4648005520&#45;&gt;4648007248*</title>\n",
       "<path fill=\"none\" stroke=\"black\" d=\"M2276.63,-174.89C2337.65,-170.36 2420.2,-164.17 2493,-158.5 2500.88,-157.89 2509.33,-157.21 2517.37,-156.57\"/>\n",
       "<polygon fill=\"black\" stroke=\"black\" points=\"2517.56,-160.06 2527.25,-155.77 2517,-153.09 2517.56,-160.06\"/>\n",
       "</g>\n",
       "<!-- 4648005520+&#45;&gt;4648005520 -->\n",
       "<g id=\"edge9\" class=\"edge\">\n",
       "<title>4648005520+&#45;&gt;4648005520</title>\n",
       "<path fill=\"none\" stroke=\"black\" d=\"M1838.75,-181.5C1889.01,-181.5 2000.57,-181.5 2083.53,-181.5\"/>\n",
       "<polygon fill=\"black\" stroke=\"black\" points=\"2083.52,-185 2093.52,-181.5 2083.52,-178 2083.52,-185\"/>\n",
       "</g>\n",
       "<!-- 4634574096 -->\n",
       "<g id=\"node26\" class=\"node\">\n",
       "<title>4634574096</title>\n",
       "<polygon fill=\"none\" stroke=\"black\" points=\"2312.25,-112.5 2312.25,-148.5 2493,-148.5 2493,-112.5 2312.25,-112.5\"/>\n",
       "<text xml:space=\"preserve\" text-anchor=\"middle\" x=\"2322.12\" y=\"-125.7\" font-family=\"Times,serif\" font-size=\"14.00\"> </text>\n",
       "<polyline fill=\"none\" stroke=\"black\" points=\"2332,-113 2332,-148.5\"/>\n",
       "<text xml:space=\"preserve\" text-anchor=\"middle\" x=\"2371.88\" y=\"-125.7\" font-family=\"Times,serif\" font-size=\"14.00\">data 0.1464</text>\n",
       "<polyline fill=\"none\" stroke=\"black\" points=\"2411.75,-113 2411.75,-148.5\"/>\n",
       "<text xml:space=\"preserve\" text-anchor=\"middle\" x=\"2452.38\" y=\"-125.7\" font-family=\"Times,serif\" font-size=\"14.00\">grad 4.8284</text>\n",
       "</g>\n",
       "<!-- 4634574096&#45;&gt;4648007248* -->\n",
       "<g id=\"edge15\" class=\"edge\">\n",
       "<title>4634574096&#45;&gt;4648007248*</title>\n",
       "<path fill=\"none\" stroke=\"black\" d=\"M2493.43,-144.15C2502.04,-145.45 2510.39,-146.72 2518.03,-147.88\"/>\n",
       "<polygon fill=\"black\" stroke=\"black\" points=\"2517.46,-151.34 2527.87,-149.38 2518.51,-144.41 2517.46,-151.34\"/>\n",
       "</g>\n",
       "<!-- 4634574096**&#45;1&#45;&gt;4634574096 -->\n",
       "<g id=\"edge10\" class=\"edge\">\n",
       "<title>4634574096**&#45;1&#45;&gt;4634574096</title>\n",
       "<path fill=\"none\" stroke=\"black\" d=\"M2214.07,-127.01C2236.18,-127.42 2268.83,-128.03 2300.72,-128.62\"/>\n",
       "<polygon fill=\"black\" stroke=\"black\" points=\"2300.37,-132.11 2310.43,-128.8 2300.5,-125.12 2300.37,-132.11\"/>\n",
       "</g>\n",
       "<!-- 4622184912 -->\n",
       "<g id=\"node28\" class=\"node\">\n",
       "<title>4622184912</title>\n",
       "<polygon fill=\"none\" stroke=\"black\" points=\"0,-0.5 0,-36.5 198,-36.5 198,-0.5 0,-0.5\"/>\n",
       "<text xml:space=\"preserve\" text-anchor=\"middle\" x=\"16.25\" y=\"-13.7\" font-family=\"Times,serif\" font-size=\"14.00\">w1</text>\n",
       "<polyline fill=\"none\" stroke=\"black\" points=\"32.5,-1 32.5,-36.5\"/>\n",
       "<text xml:space=\"preserve\" text-anchor=\"middle\" x=\"74.62\" y=\"-13.7\" font-family=\"Times,serif\" font-size=\"14.00\">data &#45;3.0000</text>\n",
       "<polyline fill=\"none\" stroke=\"black\" points=\"116.75,-1 116.75,-36.5\"/>\n",
       "<text xml:space=\"preserve\" text-anchor=\"middle\" x=\"157.38\" y=\"-13.7\" font-family=\"Times,serif\" font-size=\"14.00\">grad 1.0000</text>\n",
       "</g>\n",
       "<!-- 4622184912&#45;&gt;4648000016* -->\n",
       "<g id=\"edge13\" class=\"edge\">\n",
       "<title>4622184912&#45;&gt;4648000016*</title>\n",
       "<path fill=\"none\" stroke=\"black\" d=\"M168.91,-36.94C178.74,-39.93 188.67,-43.15 198,-46.5 207.96,-50.07 218.58,-54.47 228.18,-58.68\"/>\n",
       "<polygon fill=\"black\" stroke=\"black\" points=\"226.54,-61.78 237.1,-62.67 229.4,-55.39 226.54,-61.78\"/>\n",
       "</g>\n",
       "</g>\n",
       "</svg>\n"
      ],
      "text/plain": [
       "<graphviz.graphs.Digraph at 0x1150acd50>"
      ]
     },
     "execution_count": 137,
     "metadata": {},
     "output_type": "execute_result"
    }
   ],
   "source": [
    "# inputs x1,x2\n",
    "x1 = Value(2.0, label='x1')\n",
    "x2 = Value(0.0, label='x2')\n",
    "# weights w1,w2\n",
    "w1 = Value(-3.0, label='w1')\n",
    "w2 = Value(1.0, label='w2')\n",
    "# bias of the neuron\n",
    "b = Value(6.8813735870195432, label='b')\n",
    "# x1*w1 + x2*w2 + b\n",
    "x1w1 = x1*w1;\n",
    "x2w2 = x2*w2;\n",
    "x1w1x2w2 = x1w1 + x2w2;\n",
    "n = x1w1x2w2 + b; n.label = 'n'\n",
    "# ----\n",
    "e = (2*n).exp()\n",
    "o = (e - 1) / (e + 1)\n",
    "# ----\n",
    "o.label = 'o'\n",
    "o.backward()\n",
    "draw_dot(o)"
   ]
  },
  {
   "cell_type": "markdown",
   "id": "54ab8d31-49f2-421d-8d98-04c6a3364f78",
   "metadata": {},
   "source": [
    "## Pytorch Example\n",
    "\n",
    "The Value class is modeled after Pytorch Tensor class, but the Value class only supports scalar values.\n",
    "\n",
    "Below is an example of similar operations using Tensor."
   ]
  },
  {
   "cell_type": "code",
   "execution_count": 139,
   "id": "ebf24cb0-a196-4840-9713-940a048f7585",
   "metadata": {},
   "outputs": [],
   "source": [
    "import torch"
   ]
  },
  {
   "cell_type": "code",
   "execution_count": 140,
   "id": "021c44c5-10c1-4bb4-a8b0-decb6f1ac324",
   "metadata": {},
   "outputs": [
    {
     "name": "stdout",
     "output_type": "stream",
     "text": [
      "0.7071066904050358\n",
      "---\n",
      "x2 0.5000001283844369\n",
      "w2 0.0\n",
      "x1 -1.5000003851533106\n",
      "w1 1.0000002567688737\n"
     ]
    }
   ],
   "source": [
    "x1 = torch.Tensor([2.0]).double()                ; x1.requires_grad = True\n",
    "x2 = torch.Tensor([0.0]).double()                ; x2.requires_grad = True\n",
    "w1 = torch.Tensor([-3.0]).double()               ; w1.requires_grad = True\n",
    "w2 = torch.Tensor([1.0]).double()                ; w2.requires_grad = True\n",
    "b = torch.Tensor([6.8813735870195432]).double()  ; b.requires_grad = True\n",
    "n = x1*w1 + x2*w2 + b\n",
    "o = torch.tanh(n)\n",
    "\n",
    "print(o.data.item())\n",
    "o.backward()\n",
    "\n",
    "print('---')\n",
    "print('x2', x2.grad.item())\n",
    "print('w2', w2.grad.item())\n",
    "print('x1', x1.grad.item())\n",
    "print('w1', w1.grad.item())"
   ]
  },
  {
   "cell_type": "markdown",
   "id": "3c7d0d9e-8161-414c-af6d-500d5779615a",
   "metadata": {},
   "source": [
    "Note that the values for x1,w1 and x2,w2 match those calculated above."
   ]
  },
  {
   "cell_type": "markdown",
   "id": "bfe23b90-e75d-47b0-af53-daa5239bfb5e",
   "metadata": {},
   "source": [
    "## Neuron Class\n",
    "\n",
    "So far we wrote out a neuron structure as an expression, eg $$\\tanh (b + \\sum_{i=1}^{n}{x_i * w_i})$$\n",
    "\n",
    "Now we can define a class to encapsulate this expression."
   ]
  },
  {
   "cell_type": "code",
   "execution_count": 148,
   "id": "e6b2df84-acde-4b53-b4b8-c93741ad8f60",
   "metadata": {},
   "outputs": [],
   "source": [
    "class Neuron:\n",
    "  \n",
    "  def __init__(self, nin):\n",
    "    self.w = [Value(random.uniform(-1,1)) for _ in range(nin)]\n",
    "    self.b = Value(random.uniform(-1,1))\n",
    "  \n",
    "  def __call__(self, x):\n",
    "    # w * x + b\n",
    "    act = sum((wi*xi for wi, xi in zip(self.w, x)), self.b)\n",
    "    out = act.tanh()\n",
    "    return out\n",
    "  \n",
    "  def parameters(self):\n",
    "    return self.w + [self.b]\n"
   ]
  },
  {
   "cell_type": "markdown",
   "id": "2e155a65-a866-4cee-85c4-6751806446f2",
   "metadata": {},
   "source": [
    "In the above class, the number of inputs is the value `nin` in the constructor. For each input a weight is constructed as a Value with a random value in range -1 to 1, and also the same for the bias `b`.\n",
    "\n",
    "The `__call__()` method allows to invoke the Neuron instance as a function and pass a list `x` containing the input values. This returns the value of the expression above.\n",
    "\n",
    "The `parameters()` method returns a list of the tunable parameters of the Neuron (the weights and bias)."
   ]
  },
  {
   "cell_type": "markdown",
   "id": "d3eae43e-7dc0-4784-86e1-8f97482ea36f",
   "metadata": {},
   "source": [
    "## Layer Class\n",
    "\n",
    "A neural network is composed from layers or neurons. The dimensions are `nin` which is the inputs per neuron, and `nout` which is the number of outputs, ie the number of neurons since each neuron has one output."
   ]
  },
  {
   "cell_type": "code",
   "execution_count": 149,
   "id": "1f233c48-a007-41dc-bbfb-cf9401ef3a27",
   "metadata": {},
   "outputs": [],
   "source": [
    "class Layer:\n",
    "  \n",
    "  def __init__(self, nin, nout):\n",
    "    self.neurons = [Neuron(nin) for _ in range(nout)]\n",
    "  \n",
    "  def __call__(self, x):\n",
    "    outs = [n(x) for n in self.neurons]\n",
    "    return outs[0] if len(outs) == 1 else outs\n",
    "  \n",
    "  def parameters(self):\n",
    "    return [p for neuron in self.neurons for p in neuron.parameters()]\n"
   ]
  },
  {
   "cell_type": "markdown",
   "id": "0a602034-7d79-4c4d-ba9b-9270532d62f4",
   "metadata": {},
   "source": [
    "## MLP Class\n",
    "\n",
    "MLP constructs a multi-layer perceptron. This is a feed-forward NN that may be trained using backpropagation. The dimensions are `nin` which is the number of inputs per neuron at the first layer, and there is a list `nouts` which are the outputs at each layer. The length of `nouts` specifies the number of layers. The number of outputs at one layer equals the number of inputs at the next layer."
   ]
  },
  {
   "cell_type": "code",
   "execution_count": 150,
   "id": "906f98a1-a308-471a-9067-88a305619d0a",
   "metadata": {},
   "outputs": [],
   "source": [
    "class MLP:\n",
    "  \n",
    "  def __init__(self, nin, nouts):\n",
    "    sz = [nin] + nouts\n",
    "    self.layers = [Layer(sz[i], sz[i+1]) for i in range(len(nouts))]\n",
    "  \n",
    "  def __call__(self, x):\n",
    "    for layer in self.layers:\n",
    "      x = layer(x)\n",
    "    return x\n",
    "  \n",
    "  def parameters(self):\n",
    "    return [p for layer in self.layers for p in layer.parameters()]\n"
   ]
  },
  {
   "cell_type": "markdown",
   "id": "ecdfb004-c3ac-4044-b054-c04a4a7ec66e",
   "metadata": {},
   "source": [
    "## Example MLP\n",
    "\n",
    "Below we init an MLP with input vector `x`. The MLP has 3 layers, the middle \"hidden\" layer has 4 neurons."
   ]
  },
  {
   "cell_type": "code",
   "execution_count": 155,
   "id": "d91233d2-7783-4900-8506-88a57391e599",
   "metadata": {},
   "outputs": [
    {
     "data": {
      "text/plain": [
       "Value(data=0.23955451923704238)"
      ]
     },
     "execution_count": 155,
     "metadata": {},
     "output_type": "execute_result"
    }
   ],
   "source": [
    "x = [2.0, 3.0, -1.0]\n",
    "n = MLP(3, [4, 4, 1])\n",
    "n(x)"
   ]
  },
  {
   "cell_type": "markdown",
   "id": "b976f024-c8bb-4d54-9de5-ac80ea54f281",
   "metadata": {},
   "source": [
    "Above, the output is basically random value based on some input vector. Instead, let's give some sample inputs `xs` and outputs `ys` expected for the given inputs. We'll use the gradient descent to tune the MLP's weights to give the output."
   ]
  },
  {
   "cell_type": "code",
   "execution_count": 156,
   "id": "8b8a1c43-9ec1-4ea2-a88d-d5d9625207bd",
   "metadata": {},
   "outputs": [],
   "source": [
    "xs = [\n",
    "  [2.0, 3.0, -1.0],\n",
    "  [3.0, -1.0, 0.5],\n",
    "  [0.5, 1.0, 1.0],\n",
    "  [1.0, 1.0, -1.0],\n",
    "]\n",
    "ys = [1.0, -1.0, -1.0, 1.0] # desired targets\n"
   ]
  },
  {
   "cell_type": "markdown",
   "id": "4c05b5ee-6a92-46d1-92f8-2fbb98723db6",
   "metadata": {},
   "source": [
    "Below is the training loop. For each iteration we calculate a \"loss\" which is a measure of the distance from the desired result to the predicted one. We adjust each parameter based on the parameter's gradient in order to reduce the loss value. Note that loss itself is a Value object with the NN as the predecessor, and the gradients are all based on dp/dL (the derivative of that parameter wrt to loss)."
   ]
  },
  {
   "cell_type": "code",
   "execution_count": 157,
   "id": "e1a75c30-5ce8-46a5-a887-a2d1ab30f341",
   "metadata": {},
   "outputs": [
    {
     "name": "stdout",
     "output_type": "stream",
     "text": [
      "0 6.1353987940520085\n",
      "1 4.12828955339113\n",
      "2 2.81273559930571\n",
      "3 1.4667065660397234\n",
      "4 1.5976275630096635\n",
      "5 0.31540341508514397\n",
      "6 0.016147647721274125\n",
      "7 0.01490976413947288\n",
      "8 0.01388674315461549\n",
      "9 0.013023796261861394\n",
      "10 0.012283673548440784\n",
      "11 0.011640100006640834\n",
      "12 0.011073971571506807\n",
      "13 0.01057104005874263\n",
      "14 0.010120445891265616\n",
      "15 0.009713755736423312\n",
      "16 0.009344312507937137\n",
      "17 0.009006785031215627\n",
      "18 0.00869684900858577\n",
      "19 0.008410956506618293\n"
     ]
    }
   ],
   "source": [
    "for k in range(20):\n",
    "  \n",
    "  # forward pass\n",
    "  ypred = [n(x) for x in xs]\n",
    "  loss = sum((yout - ygt)**2 for ygt, yout in zip(ys, ypred))\n",
    "  \n",
    "  # backward pass\n",
    "  for p in n.parameters():\n",
    "    p.grad = 0.0\n",
    "  loss.backward()\n",
    "  \n",
    "  # update\n",
    "  for p in n.parameters():\n",
    "    p.data += -0.1 * p.grad\n",
    "  \n",
    "  print(k, loss.data)\n"
   ]
  },
  {
   "cell_type": "code",
   "execution_count": 158,
   "id": "4677067d-9a83-4aa9-b6dc-d44dd80ad053",
   "metadata": {},
   "outputs": [
    {
     "data": {
      "text/plain": [
       "[Value(data=0.9558054619355939),\n",
       " Value(data=-0.966151100660262),\n",
       " Value(data=-0.963226621263476),\n",
       " Value(data=0.9370732970696819)]"
      ]
     },
     "execution_count": 158,
     "metadata": {},
     "output_type": "execute_result"
    }
   ],
   "source": [
    "ypred"
   ]
  },
  {
   "cell_type": "markdown",
   "id": "9004612c-bcb4-4c2a-8075-e4f6288890e3",
   "metadata": {},
   "source": [
    "After the training loop, the parameters have been adjusted so that loss is very small, and the resultant `ypred` is very close to the desired targets."
   ]
  }
 ],
 "metadata": {
  "kernelspec": {
   "display_name": "Python 3 (ipykernel)",
   "language": "python",
   "name": "python3"
  },
  "language_info": {
   "codemirror_mode": {
    "name": "ipython",
    "version": 3
   },
   "file_extension": ".py",
   "mimetype": "text/x-python",
   "name": "python",
   "nbconvert_exporter": "python",
   "pygments_lexer": "ipython3",
   "version": "3.11.13"
  }
 },
 "nbformat": 4,
 "nbformat_minor": 5
}
